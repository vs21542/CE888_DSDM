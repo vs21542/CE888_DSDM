{
  "cells": [
    {
      "cell_type": "markdown",
      "metadata": {
        "id": "view-in-github",
        "colab_type": "text"
      },
      "source": [
        "<a href=\"https://colab.research.google.com/github/vs21542/CE888_DSDM/blob/main/code/Coupon_Recommendation_Classification.ipynb\" target=\"_parent\"><img src=\"https://colab.research.google.com/assets/colab-badge.svg\" alt=\"Open In Colab\"/></a>"
      ]
    },
    {
      "cell_type": "code",
      "execution_count": null,
      "id": "f5e0a357",
      "metadata": {
        "id": "f5e0a357"
      },
      "outputs": [],
      "source": [
        "import numpy as np\n",
        "import pandas as pd\n",
        "import seaborn as sns_raw\n",
        "import matplotlib.pyplot as plt\n",
        "\n",
        "import warnings\n",
        "warnings.filterwarnings('ignore')\n",
        "\n",
        "from sklearn.preprocessing import MinMaxScaler\n",
        "from sklearn.impute import SimpleImputer\n",
        "from sklearn import metrics\n",
        "from sklearn.metrics import roc_auc_score, roc_curve, accuracy_score, confusion_matrix, classification_report, plot_confusion_matrix\n",
        "from sklearn.model_selection import cross_val_score, train_test_split, StratifiedKFold, RandomizedSearchCV, GridSearchCV, cross_val_predict\n",
        "from sklearn.datasets import make_classification\n",
        "from sklearn.ensemble import RandomForestClassifier\n",
        "from sklearn.linear_model import LogisticRegression\n",
        "from sklearn.svm import SVC\n",
        "from sklearn.utils import shuffle"
      ]
    },
    {
      "cell_type": "code",
      "execution_count": null,
      "id": "7e0f89e0",
      "metadata": {
        "colab": {
          "base_uri": "https://localhost:8080/",
          "height": 386
        },
        "id": "7e0f89e0",
        "outputId": "a8e2a4dd-c747-48d6-9030-b86195a62454",
        "scrolled": true
      },
      "outputs": [
        {
          "data": {
            "text/html": [
              "<div>\n",
              "<style scoped>\n",
              "    .dataframe tbody tr th:only-of-type {\n",
              "        vertical-align: middle;\n",
              "    }\n",
              "\n",
              "    .dataframe tbody tr th {\n",
              "        vertical-align: top;\n",
              "    }\n",
              "\n",
              "    .dataframe thead th {\n",
              "        text-align: right;\n",
              "    }\n",
              "</style>\n",
              "<table border=\"1\" class=\"dataframe\">\n",
              "  <thead>\n",
              "    <tr style=\"text-align: right;\">\n",
              "      <th></th>\n",
              "      <th>destination</th>\n",
              "      <th>passanger</th>\n",
              "      <th>weather</th>\n",
              "      <th>temperature</th>\n",
              "      <th>time</th>\n",
              "      <th>coupon</th>\n",
              "      <th>expiration</th>\n",
              "      <th>gender</th>\n",
              "      <th>age</th>\n",
              "      <th>maritalStatus</th>\n",
              "      <th>...</th>\n",
              "      <th>CoffeeHouse</th>\n",
              "      <th>CarryAway</th>\n",
              "      <th>RestaurantLessThan20</th>\n",
              "      <th>Restaurant20To50</th>\n",
              "      <th>toCoupon_GEQ5min</th>\n",
              "      <th>toCoupon_GEQ15min</th>\n",
              "      <th>toCoupon_GEQ25min</th>\n",
              "      <th>direction_same</th>\n",
              "      <th>direction_opp</th>\n",
              "      <th>Y</th>\n",
              "    </tr>\n",
              "  </thead>\n",
              "  <tbody>\n",
              "    <tr>\n",
              "      <th>0</th>\n",
              "      <td>No Urgent Place</td>\n",
              "      <td>Alone</td>\n",
              "      <td>Sunny</td>\n",
              "      <td>55</td>\n",
              "      <td>2PM</td>\n",
              "      <td>Restaurant(&lt;20)</td>\n",
              "      <td>1d</td>\n",
              "      <td>Female</td>\n",
              "      <td>21</td>\n",
              "      <td>Unmarried partner</td>\n",
              "      <td>...</td>\n",
              "      <td>never</td>\n",
              "      <td>NaN</td>\n",
              "      <td>4~8</td>\n",
              "      <td>1~3</td>\n",
              "      <td>1</td>\n",
              "      <td>0</td>\n",
              "      <td>0</td>\n",
              "      <td>0</td>\n",
              "      <td>1</td>\n",
              "      <td>1</td>\n",
              "    </tr>\n",
              "    <tr>\n",
              "      <th>1</th>\n",
              "      <td>No Urgent Place</td>\n",
              "      <td>Friend(s)</td>\n",
              "      <td>Sunny</td>\n",
              "      <td>80</td>\n",
              "      <td>10AM</td>\n",
              "      <td>Coffee House</td>\n",
              "      <td>2h</td>\n",
              "      <td>Female</td>\n",
              "      <td>21</td>\n",
              "      <td>Unmarried partner</td>\n",
              "      <td>...</td>\n",
              "      <td>never</td>\n",
              "      <td>NaN</td>\n",
              "      <td>4~8</td>\n",
              "      <td>1~3</td>\n",
              "      <td>1</td>\n",
              "      <td>0</td>\n",
              "      <td>0</td>\n",
              "      <td>0</td>\n",
              "      <td>1</td>\n",
              "      <td>0</td>\n",
              "    </tr>\n",
              "    <tr>\n",
              "      <th>2</th>\n",
              "      <td>No Urgent Place</td>\n",
              "      <td>Friend(s)</td>\n",
              "      <td>Sunny</td>\n",
              "      <td>80</td>\n",
              "      <td>10AM</td>\n",
              "      <td>Carry out &amp; Take away</td>\n",
              "      <td>2h</td>\n",
              "      <td>Female</td>\n",
              "      <td>21</td>\n",
              "      <td>Unmarried partner</td>\n",
              "      <td>...</td>\n",
              "      <td>never</td>\n",
              "      <td>NaN</td>\n",
              "      <td>4~8</td>\n",
              "      <td>1~3</td>\n",
              "      <td>1</td>\n",
              "      <td>1</td>\n",
              "      <td>0</td>\n",
              "      <td>0</td>\n",
              "      <td>1</td>\n",
              "      <td>1</td>\n",
              "    </tr>\n",
              "    <tr>\n",
              "      <th>3</th>\n",
              "      <td>No Urgent Place</td>\n",
              "      <td>Friend(s)</td>\n",
              "      <td>Sunny</td>\n",
              "      <td>80</td>\n",
              "      <td>2PM</td>\n",
              "      <td>Coffee House</td>\n",
              "      <td>2h</td>\n",
              "      <td>Female</td>\n",
              "      <td>21</td>\n",
              "      <td>Unmarried partner</td>\n",
              "      <td>...</td>\n",
              "      <td>never</td>\n",
              "      <td>NaN</td>\n",
              "      <td>4~8</td>\n",
              "      <td>1~3</td>\n",
              "      <td>1</td>\n",
              "      <td>1</td>\n",
              "      <td>0</td>\n",
              "      <td>0</td>\n",
              "      <td>1</td>\n",
              "      <td>0</td>\n",
              "    </tr>\n",
              "    <tr>\n",
              "      <th>4</th>\n",
              "      <td>No Urgent Place</td>\n",
              "      <td>Friend(s)</td>\n",
              "      <td>Sunny</td>\n",
              "      <td>80</td>\n",
              "      <td>2PM</td>\n",
              "      <td>Coffee House</td>\n",
              "      <td>1d</td>\n",
              "      <td>Female</td>\n",
              "      <td>21</td>\n",
              "      <td>Unmarried partner</td>\n",
              "      <td>...</td>\n",
              "      <td>never</td>\n",
              "      <td>NaN</td>\n",
              "      <td>4~8</td>\n",
              "      <td>1~3</td>\n",
              "      <td>1</td>\n",
              "      <td>1</td>\n",
              "      <td>0</td>\n",
              "      <td>0</td>\n",
              "      <td>1</td>\n",
              "      <td>0</td>\n",
              "    </tr>\n",
              "  </tbody>\n",
              "</table>\n",
              "<p>5 rows × 26 columns</p>\n",
              "</div>"
            ],
            "text/plain": [
              "       destination  passanger weather  temperature  time  \\\n",
              "0  No Urgent Place      Alone   Sunny           55   2PM   \n",
              "1  No Urgent Place  Friend(s)   Sunny           80  10AM   \n",
              "2  No Urgent Place  Friend(s)   Sunny           80  10AM   \n",
              "3  No Urgent Place  Friend(s)   Sunny           80   2PM   \n",
              "4  No Urgent Place  Friend(s)   Sunny           80   2PM   \n",
              "\n",
              "                  coupon expiration  gender age      maritalStatus  ...  \\\n",
              "0        Restaurant(<20)         1d  Female  21  Unmarried partner  ...   \n",
              "1           Coffee House         2h  Female  21  Unmarried partner  ...   \n",
              "2  Carry out & Take away         2h  Female  21  Unmarried partner  ...   \n",
              "3           Coffee House         2h  Female  21  Unmarried partner  ...   \n",
              "4           Coffee House         1d  Female  21  Unmarried partner  ...   \n",
              "\n",
              "   CoffeeHouse CarryAway RestaurantLessThan20 Restaurant20To50  \\\n",
              "0        never       NaN                  4~8              1~3   \n",
              "1        never       NaN                  4~8              1~3   \n",
              "2        never       NaN                  4~8              1~3   \n",
              "3        never       NaN                  4~8              1~3   \n",
              "4        never       NaN                  4~8              1~3   \n",
              "\n",
              "  toCoupon_GEQ5min toCoupon_GEQ15min toCoupon_GEQ25min direction_same  \\\n",
              "0                1                 0                 0              0   \n",
              "1                1                 0                 0              0   \n",
              "2                1                 1                 0              0   \n",
              "3                1                 1                 0              0   \n",
              "4                1                 1                 0              0   \n",
              "\n",
              "  direction_opp  Y  \n",
              "0             1  1  \n",
              "1             1  0  \n",
              "2             1  1  \n",
              "3             1  0  \n",
              "4             1  0  \n",
              "\n",
              "[5 rows x 26 columns]"
            ]
          },
          "execution_count": 3,
          "metadata": {},
          "output_type": "execute_result"
        }
      ],
      "source": [
        "df_raw = pd.read_csv(\"in-vehicle-coupon-recommendation.csv\")\n",
        "df_raw.head()"
      ]
    },
    {
      "cell_type": "code",
      "execution_count": null,
      "id": "99ffc205",
      "metadata": {
        "colab": {
          "base_uri": "https://localhost:8080/"
        },
        "id": "99ffc205",
        "outputId": "02899cfb-6fb8-41df-ccde-eab460e7a230"
      },
      "outputs": [
        {
          "name": "stdout",
          "output_type": "stream",
          "text": [
            "<class 'pandas.core.frame.DataFrame'>\n",
            "RangeIndex: 12684 entries, 0 to 12683\n",
            "Data columns (total 26 columns):\n",
            " #   Column                Non-Null Count  Dtype \n",
            "---  ------                --------------  ----- \n",
            " 0   destination           12684 non-null  object\n",
            " 1   passanger             12684 non-null  object\n",
            " 2   weather               12684 non-null  object\n",
            " 3   temperature           12684 non-null  int64 \n",
            " 4   time                  12684 non-null  object\n",
            " 5   coupon                12684 non-null  object\n",
            " 6   expiration            12684 non-null  object\n",
            " 7   gender                12684 non-null  object\n",
            " 8   age                   12684 non-null  object\n",
            " 9   maritalStatus         12684 non-null  object\n",
            " 10  has_children          12684 non-null  int64 \n",
            " 11  education             12684 non-null  object\n",
            " 12  occupation            12684 non-null  object\n",
            " 13  income                12684 non-null  object\n",
            " 14  car                   108 non-null    object\n",
            " 15  Bar                   12577 non-null  object\n",
            " 16  CoffeeHouse           12467 non-null  object\n",
            " 17  CarryAway             12533 non-null  object\n",
            " 18  RestaurantLessThan20  12554 non-null  object\n",
            " 19  Restaurant20To50      12495 non-null  object\n",
            " 20  toCoupon_GEQ5min      12684 non-null  int64 \n",
            " 21  toCoupon_GEQ15min     12684 non-null  int64 \n",
            " 22  toCoupon_GEQ25min     12684 non-null  int64 \n",
            " 23  direction_same        12684 non-null  int64 \n",
            " 24  direction_opp         12684 non-null  int64 \n",
            " 25  Y                     12684 non-null  int64 \n",
            "dtypes: int64(8), object(18)\n",
            "memory usage: 2.5+ MB\n"
          ]
        }
      ],
      "source": [
        "df_raw.info()"
      ]
    },
    {
      "cell_type": "code",
      "execution_count": null,
      "id": "a6f03e16",
      "metadata": {
        "colab": {
          "base_uri": "https://localhost:8080/"
        },
        "id": "a6f03e16",
        "outputId": "221f7789-89f2-40ac-89c9-76c7abb69c02"
      },
      "outputs": [
        {
          "data": {
            "text/plain": [
              "destination             object\n",
              "passanger               object\n",
              "weather                 object\n",
              "temperature              int64\n",
              "time                    object\n",
              "coupon                  object\n",
              "expiration              object\n",
              "gender                  object\n",
              "age                     object\n",
              "maritalStatus           object\n",
              "has_children             int64\n",
              "education               object\n",
              "occupation              object\n",
              "income                  object\n",
              "car                     object\n",
              "Bar                     object\n",
              "CoffeeHouse             object\n",
              "CarryAway               object\n",
              "RestaurantLessThan20    object\n",
              "Restaurant20To50        object\n",
              "toCoupon_GEQ5min         int64\n",
              "toCoupon_GEQ15min        int64\n",
              "toCoupon_GEQ25min        int64\n",
              "direction_same           int64\n",
              "direction_opp            int64\n",
              "Y                        int64\n",
              "dtype: object"
            ]
          },
          "execution_count": 5,
          "metadata": {},
          "output_type": "execute_result"
        }
      ],
      "source": [
        "df_raw.dtypes"
      ]
    },
    {
      "cell_type": "code",
      "execution_count": null,
      "id": "61f2c550",
      "metadata": {
        "colab": {
          "base_uri": "https://localhost:8080/"
        },
        "id": "61f2c550",
        "outputId": "2a467ea0-33a5-40a9-eed0-7ed9a5d9210d"
      },
      "outputs": [
        {
          "data": {
            "text/plain": [
              "(12684, 26)"
            ]
          },
          "execution_count": 6,
          "metadata": {},
          "output_type": "execute_result"
        }
      ],
      "source": [
        "df_raw.shape"
      ]
    },
    {
      "cell_type": "code",
      "execution_count": null,
      "id": "abdf6020",
      "metadata": {
        "colab": {
          "base_uri": "https://localhost:8080/"
        },
        "id": "abdf6020",
        "outputId": "0582e206-f7f4-4af5-d7e3-e1857c7a5de4"
      },
      "outputs": [
        {
          "data": {
            "text/plain": [
              "destination                 0\n",
              "passanger                   0\n",
              "weather                     0\n",
              "temperature                 0\n",
              "time                        0\n",
              "coupon                      0\n",
              "expiration                  0\n",
              "gender                      0\n",
              "age                         0\n",
              "maritalStatus               0\n",
              "has_children                0\n",
              "education                   0\n",
              "occupation                  0\n",
              "income                      0\n",
              "car                     12576\n",
              "Bar                       107\n",
              "CoffeeHouse               217\n",
              "CarryAway                 151\n",
              "RestaurantLessThan20      130\n",
              "Restaurant20To50          189\n",
              "toCoupon_GEQ5min            0\n",
              "toCoupon_GEQ15min           0\n",
              "toCoupon_GEQ25min           0\n",
              "direction_same              0\n",
              "direction_opp               0\n",
              "Y                           0\n",
              "dtype: int64"
            ]
          },
          "execution_count": 7,
          "metadata": {},
          "output_type": "execute_result"
        }
      ],
      "source": [
        "df_raw.isna().sum()"
      ]
    },
    {
      "cell_type": "code",
      "execution_count": null,
      "id": "0f71ea79",
      "metadata": {
        "colab": {
          "base_uri": "https://localhost:8080/"
        },
        "id": "0f71ea79",
        "outputId": "62576a67-5417-4518-9747-21af49e778bf"
      },
      "outputs": [
        {
          "data": {
            "text/plain": [
              "destination              0.000000\n",
              "passanger                0.000000\n",
              "weather                  0.000000\n",
              "temperature              0.000000\n",
              "time                     0.000000\n",
              "coupon                   0.000000\n",
              "expiration               0.000000\n",
              "gender                   0.000000\n",
              "age                      0.000000\n",
              "maritalStatus            0.000000\n",
              "has_children             0.000000\n",
              "education                0.000000\n",
              "occupation               0.000000\n",
              "income                   0.000000\n",
              "car                     99.148534\n",
              "Bar                      0.843582\n",
              "CoffeeHouse              1.710817\n",
              "CarryAway                1.190476\n",
              "RestaurantLessThan20     1.024913\n",
              "Restaurant20To50         1.490066\n",
              "toCoupon_GEQ5min         0.000000\n",
              "toCoupon_GEQ15min        0.000000\n",
              "toCoupon_GEQ25min        0.000000\n",
              "direction_same           0.000000\n",
              "direction_opp            0.000000\n",
              "Y                        0.000000\n",
              "dtype: float64"
            ]
          },
          "execution_count": 8,
          "metadata": {},
          "output_type": "execute_result"
        }
      ],
      "source": [
        "# Check pecertange of missing values present in each of the features.\n",
        "((df_raw.isna().sum())/(len(df_raw)))*100"
      ]
    },
    {
      "cell_type": "code",
      "execution_count": null,
      "id": "fbf733cf",
      "metadata": {
        "colab": {
          "base_uri": "https://localhost:8080/"
        },
        "id": "fbf733cf",
        "outputId": "a683fa93-ae75-4c6a-e166-717d49f44456"
      },
      "outputs": [
        {
          "data": {
            "text/plain": [
              "1    7210\n",
              "0    5474\n",
              "Name: Y, dtype: int64"
            ]
          },
          "execution_count": 9,
          "metadata": {},
          "output_type": "execute_result"
        }
      ],
      "source": [
        "# If target variable 'Y' is evenly distributed between 0 and 1, then it is a balanced dataset.\n",
        "df_raw['Y'].value_counts()"
      ]
    },
    {
      "cell_type": "code",
      "execution_count": null,
      "id": "fbcd34fb",
      "metadata": {
        "colab": {
          "base_uri": "https://localhost:8080/",
          "height": 292
        },
        "id": "fbcd34fb",
        "outputId": "9986cb23-7b8d-478e-df36-1d8e5f3b4e5f"
      },
      "outputs": [
        {
          "data": {
            "image/png": "[encoded data removed]",
            "text/plain": [
              "<Figure size 432x288 with 1 Axes>"
            ]
          },
          "metadata": {
            "needs_background": "light"
          },
          "output_type": "display_data"
        }
      ],
      "source": [
        "#Analyzing the is target variable balance or not?\n",
        "df_raw['Y'].value_counts().plot(kind='bar')\n",
        "\n",
        "plt.title('Target variable balance')\n",
        "plt.xlabel('Target variable values')\n",
        "plt.ylabel('Number of values available per label')\n",
        "\n",
        "plt.show()"
      ]
    },
    {
      "cell_type": "markdown",
      "id": "c8d51f05",
      "metadata": {
        "id": "c8d51f05"
      },
      "source": [
        "*It is a balanced dataset because around 57% values present as 1 and 43% values are present as 0 in target variable 'Y'.*"
      ]
    },
    {
      "cell_type": "code",
      "execution_count": null,
      "id": "85ebe515",
      "metadata": {
        "id": "85ebe515"
      },
      "outputs": [],
      "source": [
        "# Preprocessing step: Dropping 'Car' column since 99% of values present are null.\n",
        "df_raw = df_raw.drop(['car'], axis = 1)"
      ]
    },
    {
      "cell_type": "code",
      "execution_count": null,
      "id": "fecb1037",
      "metadata": {
        "id": "fecb1037"
      },
      "outputs": [],
      "source": [
        "# Preprocessing step: Dropping 'toCoupon_GEQ5min' column since it containing all redundent values as 1. \n",
        "df_raw = df_raw.drop('toCoupon_GEQ5min', axis=1)"
      ]
    },
    {
      "cell_type": "code",
      "execution_count": null,
      "id": "9efc897b",
      "metadata": {
        "colab": {
          "base_uri": "https://localhost:8080/",
          "height": 1000
        },
        "id": "9efc897b",
        "outputId": "188bd093-4cb9-408f-c86b-ea0ce5c3b823"
      },
      "outputs": [
        {
          "data": {
            "image/png": "[encoded data removed]",
            "text/plain": [
              "<Figure size 1800x1440 with 2 Axes>"
            ]
          },
          "metadata": {
            "needs_background": "light"
          },
          "output_type": "display_data"
        }
      ],
      "source": [
        "# Checking the correlation between features.\n",
        "mask_raw = np.zeros_like(df_raw.corr(), dtype=np.bool)\n",
        "\n",
        "fig, axis = plt.subplots(figsize=(25,20))\n",
        "\n",
        "heatmap_raw = sns_raw.heatmap(df_raw.corr(), \n",
        "                      mask = mask_raw,\n",
        "                      cmap = 'coolwarm',\n",
        "                      square = True,\n",
        "                      linewidths = .6,\n",
        "                      cbar_kws = {'shrink': .6, \n",
        "                                'ticks' : [-1, -.75,-.5,-.25, 0, .25, 0.5, 0.75, 1]},\n",
        "                      vmax = 1,\n",
        "                      annot = True,\n",
        "                      annot_kws = {\"size\": 12})\n",
        "\n",
        "axis.set_xticklabels(df_raw.corr().columns)\n",
        "axis.set_yticklabels(df_raw.corr().columns, rotation = 0)\n",
        "\n",
        "\n",
        "sns_raw.set_style({'xtick.bottom': True}, {'ytick.left': True})\n",
        "plt.tight_layout()"
      ]
    },
    {
      "cell_type": "code",
      "execution_count": null,
      "id": "23675e44",
      "metadata": {
        "id": "23675e44"
      },
      "outputs": [],
      "source": [
        "# direction_same and direction_opp are negatively correlated, hence keeping only one of them is sufficient for classification.\n",
        "#df_raw = df_raw.drop('direction_opp', axis=1)"
      ]
    },
    {
      "cell_type": "code",
      "execution_count": null,
      "id": "1543c151",
      "metadata": {
        "colab": {
          "base_uri": "https://localhost:8080/"
        },
        "id": "1543c151",
        "outputId": "a3769a6b-2f65-4c45-d8dc-4a416e4e4299"
      },
      "outputs": [
        {
          "data": {
            "text/plain": [
              "never    5197\n",
              "less1    3482\n",
              "1~3      2473\n",
              "4~8      1076\n",
              "gt8       349\n",
              "Name: Bar, dtype: int64"
            ]
          },
          "execution_count": 14,
          "metadata": {},
          "output_type": "execute_result"
        }
      ],
      "source": [
        "df_raw['Bar'].value_counts()"
      ]
    },
    {
      "cell_type": "code",
      "execution_count": null,
      "id": "4d07e873",
      "metadata": {
        "id": "4d07e873"
      },
      "outputs": [],
      "source": [
        "# Imputing missing value with maximum occuring value 'never'\n",
        "df_raw['Bar'].replace(np.NaN, 'never', inplace = True)"
      ]
    },
    {
      "cell_type": "code",
      "execution_count": null,
      "id": "f7edaf22",
      "metadata": {
        "colab": {
          "base_uri": "https://localhost:8080/"
        },
        "id": "f7edaf22",
        "outputId": "b84b329d-6b47-4792-81b1-f128626c22aa"
      },
      "outputs": [
        {
          "data": {
            "text/plain": [
              "less1    3385\n",
              "1~3      3225\n",
              "never    2962\n",
              "4~8      1784\n",
              "gt8      1111\n",
              "Name: CoffeeHouse, dtype: int64"
            ]
          },
          "execution_count": 16,
          "metadata": {},
          "output_type": "execute_result"
        }
      ],
      "source": [
        "df_raw['CoffeeHouse'].value_counts()      "
      ]
    },
    {
      "cell_type": "code",
      "execution_count": null,
      "id": "4869285e",
      "metadata": {
        "id": "4869285e"
      },
      "outputs": [],
      "source": [
        "# Imputing missing value with maximum occuring value 'less1'\n",
        "df_raw['CoffeeHouse'].replace(np.NaN, 'less1', inplace = True)"
      ]
    },
    {
      "cell_type": "code",
      "execution_count": null,
      "id": "958575b0",
      "metadata": {
        "colab": {
          "base_uri": "https://localhost:8080/"
        },
        "id": "958575b0",
        "outputId": "a98c5fd9-24b6-41ef-9439-2cdf73d3b2a5"
      },
      "outputs": [
        {
          "data": {
            "text/plain": [
              "1~3      4672\n",
              "4~8      4258\n",
              "less1    1856\n",
              "gt8      1594\n",
              "never     153\n",
              "Name: CarryAway, dtype: int64"
            ]
          },
          "execution_count": 18,
          "metadata": {},
          "output_type": "execute_result"
        }
      ],
      "source": [
        "df_raw['CarryAway'].value_counts()"
      ]
    },
    {
      "cell_type": "code",
      "execution_count": null,
      "id": "579f950b",
      "metadata": {
        "id": "579f950b"
      },
      "outputs": [],
      "source": [
        "# Imputing missing value with maximum occuring value '1~3'\n",
        "df_raw['CarryAway'].replace(np.NaN, '1~3', inplace = True)"
      ]
    },
    {
      "cell_type": "code",
      "execution_count": null,
      "id": "ed8f073d",
      "metadata": {
        "colab": {
          "base_uri": "https://localhost:8080/"
        },
        "id": "ed8f073d",
        "outputId": "a5690b93-5217-4ba4-e8d0-b7bd6fb12e06"
      },
      "outputs": [
        {
          "data": {
            "text/plain": [
              "1~3      5376\n",
              "4~8      3580\n",
              "less1    2093\n",
              "gt8      1285\n",
              "never     220\n",
              "Name: RestaurantLessThan20, dtype: int64"
            ]
          },
          "execution_count": 20,
          "metadata": {},
          "output_type": "execute_result"
        }
      ],
      "source": [
        "df_raw['RestaurantLessThan20'].value_counts()"
      ]
    },
    {
      "cell_type": "code",
      "execution_count": null,
      "id": "3c560a31",
      "metadata": {
        "id": "3c560a31"
      },
      "outputs": [],
      "source": [
        "# Imputing missing value with maximum occuring value '1~3'\n",
        "df_raw['RestaurantLessThan20'].replace(np.NaN, '1~3', inplace = True)"
      ]
    },
    {
      "cell_type": "code",
      "execution_count": null,
      "id": "98529c2c",
      "metadata": {
        "colab": {
          "base_uri": "https://localhost:8080/"
        },
        "id": "98529c2c",
        "outputId": "8b81e25a-7dca-4c03-faef-1a88334b904a"
      },
      "outputs": [
        {
          "data": {
            "text/plain": [
              "less1    6077\n",
              "1~3      3290\n",
              "never    2136\n",
              "4~8       728\n",
              "gt8       264\n",
              "Name: Restaurant20To50, dtype: int64"
            ]
          },
          "execution_count": 22,
          "metadata": {},
          "output_type": "execute_result"
        }
      ],
      "source": [
        "df_raw['Restaurant20To50'].value_counts()"
      ]
    },
    {
      "cell_type": "code",
      "execution_count": null,
      "id": "be2def8a",
      "metadata": {
        "id": "be2def8a"
      },
      "outputs": [],
      "source": [
        "# Imputing missing value with maximum occuring value 'less1'\n",
        "df_raw['Restaurant20To50'].replace(np.NaN, 'less1', inplace = True)"
      ]
    },
    {
      "cell_type": "code",
      "execution_count": null,
      "id": "f5eaa6d0",
      "metadata": {
        "colab": {
          "base_uri": "https://localhost:8080/"
        },
        "id": "f5eaa6d0",
        "outputId": "cdcde0c1-4e21-4d2b-f00c-89b1633b4fda"
      },
      "outputs": [
        {
          "data": {
            "text/plain": [
              "destination             0\n",
              "passanger               0\n",
              "weather                 0\n",
              "temperature             0\n",
              "time                    0\n",
              "coupon                  0\n",
              "expiration              0\n",
              "gender                  0\n",
              "age                     0\n",
              "maritalStatus           0\n",
              "has_children            0\n",
              "education               0\n",
              "occupation              0\n",
              "income                  0\n",
              "Bar                     0\n",
              "CoffeeHouse             0\n",
              "CarryAway               0\n",
              "RestaurantLessThan20    0\n",
              "Restaurant20To50        0\n",
              "toCoupon_GEQ15min       0\n",
              "toCoupon_GEQ25min       0\n",
              "direction_same          0\n",
              "direction_opp           0\n",
              "Y                       0\n",
              "dtype: int64"
            ]
          },
          "execution_count": 24,
          "metadata": {},
          "output_type": "execute_result"
        }
      ],
      "source": [
        "df_raw.isna().sum()"
      ]
    },
    {
      "cell_type": "code",
      "execution_count": null,
      "id": "0b2179d3",
      "metadata": {
        "colab": {
          "base_uri": "https://localhost:8080/"
        },
        "id": "0b2179d3",
        "outputId": "33f77a89-2d4a-4777-ac26-477a0cc4d0a1"
      },
      "outputs": [
        {
          "name": "stdout",
          "output_type": "stream",
          "text": [
            "<class 'pandas.core.frame.DataFrame'>\n",
            "RangeIndex: 12684 entries, 0 to 12683\n",
            "Data columns (total 24 columns):\n",
            " #   Column                Non-Null Count  Dtype \n",
            "---  ------                --------------  ----- \n",
            " 0   destination           12684 non-null  object\n",
            " 1   passanger             12684 non-null  object\n",
            " 2   weather               12684 non-null  object\n",
            " 3   temperature           12684 non-null  int64 \n",
            " 4   time                  12684 non-null  object\n",
            " 5   coupon                12684 non-null  object\n",
            " 6   expiration            12684 non-null  object\n",
            " 7   gender                12684 non-null  object\n",
            " 8   age                   12684 non-null  object\n",
            " 9   maritalStatus         12684 non-null  object\n",
            " 10  has_children          12684 non-null  int64 \n",
            " 11  education             12684 non-null  object\n",
            " 12  occupation            12684 non-null  object\n",
            " 13  income                12684 non-null  object\n",
            " 14  Bar                   12684 non-null  object\n",
            " 15  CoffeeHouse           12684 non-null  object\n",
            " 16  CarryAway             12684 non-null  object\n",
            " 17  RestaurantLessThan20  12684 non-null  object\n",
            " 18  Restaurant20To50      12684 non-null  object\n",
            " 19  toCoupon_GEQ15min     12684 non-null  int64 \n",
            " 20  toCoupon_GEQ25min     12684 non-null  int64 \n",
            " 21  direction_same        12684 non-null  int64 \n",
            " 22  direction_opp         12684 non-null  int64 \n",
            " 23  Y                     12684 non-null  int64 \n",
            "dtypes: int64(7), object(17)\n",
            "memory usage: 2.3+ MB\n"
          ]
        }
      ],
      "source": [
        "df_raw.info()"
      ]
    },
    {
      "cell_type": "markdown",
      "id": "ce5e9029",
      "metadata": {
        "id": "ce5e9029"
      },
      "source": [
        "*Categorical columns present are :- destination, passenger, weather, time, coupon, expiration, gender, age, maritalstatus, education, occupation, income, Bar, CoffeeHouse, CarryAway, RestaurantLessThan20, Restaurant20To50.*"
      ]
    },
    {
      "cell_type": "markdown",
      "id": "8ffa52bc",
      "metadata": {
        "id": "8ffa52bc"
      },
      "source": [
        "*Applying one hot encoding on categorical columns.*"
      ]
    },
    {
      "cell_type": "code",
      "execution_count": null,
      "id": "e332c79d",
      "metadata": {
        "colab": {
          "base_uri": "https://localhost:8080/"
        },
        "id": "e332c79d",
        "outputId": "97715669-2ba4-4b44-97c5-ad050832580e"
      },
      "outputs": [
        {
          "data": {
            "text/plain": [
              "Index(['passanger', 'weather', 'temperature', 'time', 'coupon', 'expiration',\n",
              "       'gender', 'age', 'maritalStatus', 'has_children', 'education',\n",
              "       'occupation', 'income', 'Bar', 'CoffeeHouse', 'CarryAway',\n",
              "       'RestaurantLessThan20', 'Restaurant20To50', 'toCoupon_GEQ15min',\n",
              "       'toCoupon_GEQ25min', 'direction_same', 'direction_opp', 'Y',\n",
              "       'dest_Home', 'dest_No Urgent Place', 'dest_Work'],\n",
              "      dtype='object')"
            ]
          },
          "execution_count": 26,
          "metadata": {},
          "output_type": "execute_result"
        }
      ],
      "source": [
        "cols_cat = pd.get_dummies(df_raw['destination'], prefix = 'dest')\n",
        "df_raw[cols_cat.columns] = cols_cat\n",
        "df_raw = df_raw.drop(['destination'], axis = 1)\n",
        "df_raw.columns"
      ]
    },
    {
      "cell_type": "code",
      "execution_count": null,
      "id": "e6438c32",
      "metadata": {
        "colab": {
          "base_uri": "https://localhost:8080/"
        },
        "id": "e6438c32",
        "outputId": "0986fec2-31f2-4d9b-a199-4881c20a0425"
      },
      "outputs": [
        {
          "data": {
            "text/plain": [
              "Index(['passanger', 'temperature', 'time', 'coupon', 'expiration', 'gender',\n",
              "       'age', 'maritalStatus', 'has_children', 'education', 'occupation',\n",
              "       'income', 'Bar', 'CoffeeHouse', 'CarryAway', 'RestaurantLessThan20',\n",
              "       'Restaurant20To50', 'toCoupon_GEQ15min', 'toCoupon_GEQ25min',\n",
              "       'direction_same', 'direction_opp', 'Y', 'dest_Home',\n",
              "       'dest_No Urgent Place', 'dest_Work', 'weath_Rainy', 'weath_Snowy',\n",
              "       'weath_Sunny'],\n",
              "      dtype='object')"
            ]
          },
          "execution_count": 27,
          "metadata": {},
          "output_type": "execute_result"
        }
      ],
      "source": [
        "cols_cat = pd.get_dummies(df_raw['weather'], prefix = 'weath')\n",
        "df_raw[cols_cat.columns] = cols_cat\n",
        "df_raw = df_raw.drop(['weather'], axis = 1)\n",
        "df_raw.columns"
      ]
    },
    {
      "cell_type": "code",
      "execution_count": null,
      "id": "07abce46",
      "metadata": {
        "colab": {
          "base_uri": "https://localhost:8080/"
        },
        "id": "07abce46",
        "outputId": "338cba13-2dc9-4b56-d62c-718d920961aa"
      },
      "outputs": [
        {
          "data": {
            "text/plain": [
              "Index(['temperature', 'time', 'coupon', 'expiration', 'gender', 'age',\n",
              "       'maritalStatus', 'has_children', 'education', 'occupation', 'income',\n",
              "       'Bar', 'CoffeeHouse', 'CarryAway', 'RestaurantLessThan20',\n",
              "       'Restaurant20To50', 'toCoupon_GEQ15min', 'toCoupon_GEQ25min',\n",
              "       'direction_same', 'direction_opp', 'Y', 'dest_Home',\n",
              "       'dest_No Urgent Place', 'dest_Work', 'weath_Rainy', 'weath_Snowy',\n",
              "       'weath_Sunny', 'pass_Alone', 'pass_Friend(s)', 'pass_Kid(s)',\n",
              "       'pass_Partner'],\n",
              "      dtype='object')"
            ]
          },
          "execution_count": 28,
          "metadata": {},
          "output_type": "execute_result"
        }
      ],
      "source": [
        "cols_cat = pd.get_dummies(df_raw['passanger'], prefix = 'pass')\n",
        "df_raw[cols_cat.columns] = cols_cat\n",
        "df_raw = df_raw.drop(['passanger'], axis = 1)\n",
        "df_raw.columns"
      ]
    },
    {
      "cell_type": "code",
      "execution_count": null,
      "id": "3aa7a92c",
      "metadata": {
        "colab": {
          "base_uri": "https://localhost:8080/"
        },
        "id": "3aa7a92c",
        "outputId": "0cecf349-3abd-4cee-e7cd-72f6722127f9"
      },
      "outputs": [
        {
          "data": {
            "text/plain": [
              "Index(['temperature', 'coupon', 'expiration', 'gender', 'age', 'maritalStatus',\n",
              "       'has_children', 'education', 'occupation', 'income', 'Bar',\n",
              "       'CoffeeHouse', 'CarryAway', 'RestaurantLessThan20', 'Restaurant20To50',\n",
              "       'toCoupon_GEQ15min', 'toCoupon_GEQ25min', 'direction_same',\n",
              "       'direction_opp', 'Y', 'dest_Home', 'dest_No Urgent Place', 'dest_Work',\n",
              "       'weath_Rainy', 'weath_Snowy', 'weath_Sunny', 'pass_Alone',\n",
              "       'pass_Friend(s)', 'pass_Kid(s)', 'pass_Partner', 'time_10AM',\n",
              "       'time_10PM', 'time_2PM', 'time_6PM', 'time_7AM'],\n",
              "      dtype='object')"
            ]
          },
          "execution_count": 29,
          "metadata": {},
          "output_type": "execute_result"
        }
      ],
      "source": [
        "cols_cat = pd.get_dummies(df_raw['time'], prefix = 'time')\n",
        "df_raw[cols_cat.columns] = cols_cat\n",
        "df_raw = df_raw.drop(['time'], axis = 1)\n",
        "df_raw.columns"
      ]
    },
    {
      "cell_type": "code",
      "execution_count": null,
      "id": "1a2311f1",
      "metadata": {
        "colab": {
          "base_uri": "https://localhost:8080/"
        },
        "id": "1a2311f1",
        "outputId": "627d5693-e2ed-40e3-f172-aec5e45d787f"
      },
      "outputs": [
        {
          "data": {
            "text/plain": [
              "Index(['temperature', 'expiration', 'gender', 'age', 'maritalStatus',\n",
              "       'has_children', 'education', 'occupation', 'income', 'Bar',\n",
              "       'CoffeeHouse', 'CarryAway', 'RestaurantLessThan20', 'Restaurant20To50',\n",
              "       'toCoupon_GEQ15min', 'toCoupon_GEQ25min', 'direction_same',\n",
              "       'direction_opp', 'Y', 'dest_Home', 'dest_No Urgent Place', 'dest_Work',\n",
              "       'weath_Rainy', 'weath_Snowy', 'weath_Sunny', 'pass_Alone',\n",
              "       'pass_Friend(s)', 'pass_Kid(s)', 'pass_Partner', 'time_10AM',\n",
              "       'time_10PM', 'time_2PM', 'time_6PM', 'time_7AM', 'coup_Bar',\n",
              "       'coup_Carry out & Take away', 'coup_Coffee House',\n",
              "       'coup_Restaurant(20-50)', 'coup_Restaurant(<20)'],\n",
              "      dtype='object')"
            ]
          },
          "execution_count": 30,
          "metadata": {},
          "output_type": "execute_result"
        }
      ],
      "source": [
        "cols_cat = pd.get_dummies(df_raw['coupon'], prefix = 'coup')\n",
        "df_raw[cols_cat.columns] = cols_cat\n",
        "df_raw = df_raw.drop(['coupon'], axis = 1)\n",
        "df_raw.columns"
      ]
    },
    {
      "cell_type": "code",
      "execution_count": null,
      "id": "d904e353",
      "metadata": {
        "id": "d904e353"
      },
      "outputs": [],
      "source": [
        "# Gender feature - replace Female as 0 and Male as 1.\n",
        "df_raw['gender'].replace(\"Female\", 0, inplace = True)\n",
        "df_raw['gender'].replace(\"Male\", 1, inplace = True)"
      ]
    },
    {
      "cell_type": "code",
      "execution_count": null,
      "id": "b5a62a7e",
      "metadata": {
        "id": "b5a62a7e"
      },
      "outputs": [],
      "source": [
        "# Expiration feature - replace 1d as 1 and 2h as 0.\n",
        "df_raw['expiration'].replace(\"1d\", 1, inplace = True)\n",
        "df_raw['expiration'].replace(\"2h\", 0, inplace = True)"
      ]
    },
    {
      "cell_type": "markdown",
      "id": "4727becf",
      "metadata": {
        "id": "4727becf"
      },
      "source": [
        "Applying One hot encoding for catregorical features."
      ]
    },
    {
      "cell_type": "code",
      "execution_count": null,
      "id": "52d7473d",
      "metadata": {
        "colab": {
          "base_uri": "https://localhost:8080/"
        },
        "id": "52d7473d",
        "outputId": "356cf7e8-84ce-4887-a606-c15eb2667484"
      },
      "outputs": [
        {
          "data": {
            "text/plain": [
              "Index(['temperature', 'expiration', 'gender', 'maritalStatus', 'has_children',\n",
              "       'education', 'occupation', 'income', 'Bar', 'CoffeeHouse', 'CarryAway',\n",
              "       'RestaurantLessThan20', 'Restaurant20To50', 'toCoupon_GEQ15min',\n",
              "       'toCoupon_GEQ25min', 'direction_same', 'direction_opp', 'Y',\n",
              "       'dest_Home', 'dest_No Urgent Place', 'dest_Work', 'weath_Rainy',\n",
              "       'weath_Snowy', 'weath_Sunny', 'pass_Alone', 'pass_Friend(s)',\n",
              "       'pass_Kid(s)', 'pass_Partner', 'time_10AM', 'time_10PM', 'time_2PM',\n",
              "       'time_6PM', 'time_7AM', 'coup_Bar', 'coup_Carry out & Take away',\n",
              "       'coup_Coffee House', 'coup_Restaurant(20-50)', 'coup_Restaurant(<20)',\n",
              "       'age_21', 'age_26', 'age_31', 'age_36', 'age_41', 'age_46',\n",
              "       'age_50plus', 'age_below21'],\n",
              "      dtype='object')"
            ]
          },
          "execution_count": 33,
          "metadata": {},
          "output_type": "execute_result"
        }
      ],
      "source": [
        "cols_cat = pd.get_dummies(df_raw['age'], prefix = 'age')\n",
        "df_raw[cols_cat.columns] = cols_cat\n",
        "df_raw = df_raw.drop(['age'], axis = 1)\n",
        "df_raw.columns"
      ]
    },
    {
      "cell_type": "code",
      "execution_count": null,
      "id": "d8ce2a3f",
      "metadata": {
        "colab": {
          "base_uri": "https://localhost:8080/"
        },
        "id": "d8ce2a3f",
        "outputId": "9e6b1c56-40a4-41c7-f6d8-c8bbcf42a5b4"
      },
      "outputs": [
        {
          "data": {
            "text/plain": [
              "Index(['temperature', 'expiration', 'gender', 'has_children', 'education',\n",
              "       'occupation', 'income', 'Bar', 'CoffeeHouse', 'CarryAway',\n",
              "       'RestaurantLessThan20', 'Restaurant20To50', 'toCoupon_GEQ15min',\n",
              "       'toCoupon_GEQ25min', 'direction_same', 'direction_opp', 'Y',\n",
              "       'dest_Home', 'dest_No Urgent Place', 'dest_Work', 'weath_Rainy',\n",
              "       'weath_Snowy', 'weath_Sunny', 'pass_Alone', 'pass_Friend(s)',\n",
              "       'pass_Kid(s)', 'pass_Partner', 'time_10AM', 'time_10PM', 'time_2PM',\n",
              "       'time_6PM', 'time_7AM', 'coup_Bar', 'coup_Carry out & Take away',\n",
              "       'coup_Coffee House', 'coup_Restaurant(20-50)', 'coup_Restaurant(<20)',\n",
              "       'age_21', 'age_26', 'age_31', 'age_36', 'age_41', 'age_46',\n",
              "       'age_50plus', 'age_below21', 'mari_Stat_Divorced',\n",
              "       'mari_Stat_Married partner', 'mari_Stat_Single',\n",
              "       'mari_Stat_Unmarried partner', 'mari_Stat_Widowed'],\n",
              "      dtype='object')"
            ]
          },
          "execution_count": 34,
          "metadata": {},
          "output_type": "execute_result"
        }
      ],
      "source": [
        "cols_cat = pd.get_dummies(df_raw['maritalStatus'], prefix = 'mari_Stat')\n",
        "df_raw[cols_cat.columns] = cols_cat\n",
        "df_raw = df_raw.drop(['maritalStatus'], axis = 1)\n",
        "df_raw.columns"
      ]
    },
    {
      "cell_type": "code",
      "execution_count": null,
      "id": "3f1f3a4f",
      "metadata": {
        "colab": {
          "base_uri": "https://localhost:8080/"
        },
        "id": "3f1f3a4f",
        "outputId": "edf53ce1-3e20-463e-b286-0769ff559bab"
      },
      "outputs": [
        {
          "data": {
            "text/plain": [
              "Index(['temperature', 'expiration', 'gender', 'has_children', 'occupation',\n",
              "       'income', 'Bar', 'CoffeeHouse', 'CarryAway', 'RestaurantLessThan20',\n",
              "       'Restaurant20To50', 'toCoupon_GEQ15min', 'toCoupon_GEQ25min',\n",
              "       'direction_same', 'direction_opp', 'Y', 'dest_Home',\n",
              "       'dest_No Urgent Place', 'dest_Work', 'weath_Rainy', 'weath_Snowy',\n",
              "       'weath_Sunny', 'pass_Alone', 'pass_Friend(s)', 'pass_Kid(s)',\n",
              "       'pass_Partner', 'time_10AM', 'time_10PM', 'time_2PM', 'time_6PM',\n",
              "       'time_7AM', 'coup_Bar', 'coup_Carry out & Take away',\n",
              "       'coup_Coffee House', 'coup_Restaurant(20-50)', 'coup_Restaurant(<20)',\n",
              "       'age_21', 'age_26', 'age_31', 'age_36', 'age_41', 'age_46',\n",
              "       'age_50plus', 'age_below21', 'mari_Stat_Divorced',\n",
              "       'mari_Stat_Married partner', 'mari_Stat_Single',\n",
              "       'mari_Stat_Unmarried partner', 'mari_Stat_Widowed',\n",
              "       'ed_Associates degree', 'ed_Bachelors degree',\n",
              "       'ed_Graduate degree (Masters or Doctorate)', 'ed_High School Graduate',\n",
              "       'ed_Some High School', 'ed_Some college - no degree'],\n",
              "      dtype='object')"
            ]
          },
          "execution_count": 35,
          "metadata": {},
          "output_type": "execute_result"
        }
      ],
      "source": [
        "cols_cat = pd.get_dummies(df_raw['education'], prefix = 'ed')\n",
        "df_raw[cols_cat.columns] = cols_cat\n",
        "df_raw = df_raw.drop(['education'], axis = 1)\n",
        "df_raw.columns"
      ]
    },
    {
      "cell_type": "code",
      "execution_count": null,
      "id": "dbeac16b",
      "metadata": {
        "colab": {
          "base_uri": "https://localhost:8080/"
        },
        "id": "dbeac16b",
        "outputId": "d78ba618-559b-4957-af66-70b3f218fad1"
      },
      "outputs": [
        {
          "data": {
            "text/plain": [
              "Index(['temperature', 'expiration', 'gender', 'has_children', 'occupation',\n",
              "       'Bar', 'CoffeeHouse', 'CarryAway', 'RestaurantLessThan20',\n",
              "       'Restaurant20To50', 'toCoupon_GEQ15min', 'toCoupon_GEQ25min',\n",
              "       'direction_same', 'direction_opp', 'Y', 'dest_Home',\n",
              "       'dest_No Urgent Place', 'dest_Work', 'weath_Rainy', 'weath_Snowy',\n",
              "       'weath_Sunny', 'pass_Alone', 'pass_Friend(s)', 'pass_Kid(s)',\n",
              "       'pass_Partner', 'time_10AM', 'time_10PM', 'time_2PM', 'time_6PM',\n",
              "       'time_7AM', 'coup_Bar', 'coup_Carry out & Take away',\n",
              "       'coup_Coffee House', 'coup_Restaurant(20-50)', 'coup_Restaurant(<20)',\n",
              "       'age_21', 'age_26', 'age_31', 'age_36', 'age_41', 'age_46',\n",
              "       'age_50plus', 'age_below21', 'mari_Stat_Divorced',\n",
              "       'mari_Stat_Married partner', 'mari_Stat_Single',\n",
              "       'mari_Stat_Unmarried partner', 'mari_Stat_Widowed',\n",
              "       'ed_Associates degree', 'ed_Bachelors degree',\n",
              "       'ed_Graduate degree (Masters or Doctorate)', 'ed_High School Graduate',\n",
              "       'ed_Some High School', 'ed_Some college - no degree',\n",
              "       'income_$100000 or More', 'income_$12500 - $24999',\n",
              "       'income_$25000 - $37499', 'income_$37500 - $49999',\n",
              "       'income_$50000 - $62499', 'income_$62500 - $74999',\n",
              "       'income_$75000 - $87499', 'income_$87500 - $99999',\n",
              "       'income_Less than $12500'],\n",
              "      dtype='object')"
            ]
          },
          "execution_count": 36,
          "metadata": {},
          "output_type": "execute_result"
        }
      ],
      "source": [
        "cols_cat = pd.get_dummies(df_raw['income'], prefix = 'income')\n",
        "df_raw[cols_cat.columns] = cols_cat\n",
        "df_raw = df_raw.drop(['income'], axis = 1)\n",
        "df_raw.columns"
      ]
    },
    {
      "cell_type": "code",
      "execution_count": null,
      "id": "abbcec20",
      "metadata": {
        "colab": {
          "base_uri": "https://localhost:8080/"
        },
        "id": "abbcec20",
        "outputId": "4fa3d23c-070b-45ed-85cc-38ec0e11c62b"
      },
      "outputs": [
        {
          "data": {
            "text/plain": [
              "Index(['temperature', 'expiration', 'gender', 'has_children', 'occupation',\n",
              "       'CoffeeHouse', 'CarryAway', 'RestaurantLessThan20', 'Restaurant20To50',\n",
              "       'toCoupon_GEQ15min', 'toCoupon_GEQ25min', 'direction_same',\n",
              "       'direction_opp', 'Y', 'dest_Home', 'dest_No Urgent Place', 'dest_Work',\n",
              "       'weath_Rainy', 'weath_Snowy', 'weath_Sunny', 'pass_Alone',\n",
              "       'pass_Friend(s)', 'pass_Kid(s)', 'pass_Partner', 'time_10AM',\n",
              "       'time_10PM', 'time_2PM', 'time_6PM', 'time_7AM', 'coup_Bar',\n",
              "       'coup_Carry out & Take away', 'coup_Coffee House',\n",
              "       'coup_Restaurant(20-50)', 'coup_Restaurant(<20)', 'age_21', 'age_26',\n",
              "       'age_31', 'age_36', 'age_41', 'age_46', 'age_50plus', 'age_below21',\n",
              "       'mari_Stat_Divorced', 'mari_Stat_Married partner', 'mari_Stat_Single',\n",
              "       'mari_Stat_Unmarried partner', 'mari_Stat_Widowed',\n",
              "       'ed_Associates degree', 'ed_Bachelors degree',\n",
              "       'ed_Graduate degree (Masters or Doctorate)', 'ed_High School Graduate',\n",
              "       'ed_Some High School', 'ed_Some college - no degree',\n",
              "       'income_$100000 or More', 'income_$12500 - $24999',\n",
              "       'income_$25000 - $37499', 'income_$37500 - $49999',\n",
              "       'income_$50000 - $62499', 'income_$62500 - $74999',\n",
              "       'income_$75000 - $87499', 'income_$87500 - $99999',\n",
              "       'income_Less than $12500', 'Bar_1~3', 'Bar_4~8', 'Bar_gt8', 'Bar_less1',\n",
              "       'Bar_never'],\n",
              "      dtype='object')"
            ]
          },
          "execution_count": 37,
          "metadata": {},
          "output_type": "execute_result"
        }
      ],
      "source": [
        "cols_cat = pd.get_dummies(df_raw['Bar'], prefix = 'Bar')\n",
        "df_raw[cols_cat.columns] = cols_cat\n",
        "df_raw = df_raw.drop(['Bar'], axis = 1)\n",
        "df_raw.columns"
      ]
    },
    {
      "cell_type": "code",
      "execution_count": null,
      "id": "82963e06",
      "metadata": {
        "colab": {
          "base_uri": "https://localhost:8080/"
        },
        "id": "82963e06",
        "outputId": "66b03c17-2578-4034-d2b2-b977fb804c0b"
      },
      "outputs": [
        {
          "data": {
            "text/plain": [
              "Index(['temperature', 'expiration', 'gender', 'has_children', 'occupation',\n",
              "       'CarryAway', 'RestaurantLessThan20', 'Restaurant20To50',\n",
              "       'toCoupon_GEQ15min', 'toCoupon_GEQ25min', 'direction_same',\n",
              "       'direction_opp', 'Y', 'dest_Home', 'dest_No Urgent Place', 'dest_Work',\n",
              "       'weath_Rainy', 'weath_Snowy', 'weath_Sunny', 'pass_Alone',\n",
              "       'pass_Friend(s)', 'pass_Kid(s)', 'pass_Partner', 'time_10AM',\n",
              "       'time_10PM', 'time_2PM', 'time_6PM', 'time_7AM', 'coup_Bar',\n",
              "       'coup_Carry out & Take away', 'coup_Coffee House',\n",
              "       'coup_Restaurant(20-50)', 'coup_Restaurant(<20)', 'age_21', 'age_26',\n",
              "       'age_31', 'age_36', 'age_41', 'age_46', 'age_50plus', 'age_below21',\n",
              "       'mari_Stat_Divorced', 'mari_Stat_Married partner', 'mari_Stat_Single',\n",
              "       'mari_Stat_Unmarried partner', 'mari_Stat_Widowed',\n",
              "       'ed_Associates degree', 'ed_Bachelors degree',\n",
              "       'ed_Graduate degree (Masters or Doctorate)', 'ed_High School Graduate',\n",
              "       'ed_Some High School', 'ed_Some college - no degree',\n",
              "       'income_$100000 or More', 'income_$12500 - $24999',\n",
              "       'income_$25000 - $37499', 'income_$37500 - $49999',\n",
              "       'income_$50000 - $62499', 'income_$62500 - $74999',\n",
              "       'income_$75000 - $87499', 'income_$87500 - $99999',\n",
              "       'income_Less than $12500', 'Bar_1~3', 'Bar_4~8', 'Bar_gt8', 'Bar_less1',\n",
              "       'Bar_never', 'Coffee_1~3', 'Coffee_4~8', 'Coffee_gt8', 'Coffee_less1',\n",
              "       'Coffee_never'],\n",
              "      dtype='object')"
            ]
          },
          "execution_count": 38,
          "metadata": {},
          "output_type": "execute_result"
        }
      ],
      "source": [
        "cols_cat = pd.get_dummies(df_raw['CoffeeHouse'], prefix = 'Coffee')\n",
        "df_raw[cols_cat.columns] = cols_cat\n",
        "df_raw = df_raw.drop(['CoffeeHouse'], axis = 1)\n",
        "df_raw.columns"
      ]
    },
    {
      "cell_type": "code",
      "execution_count": null,
      "id": "a9163e26",
      "metadata": {
        "colab": {
          "base_uri": "https://localhost:8080/"
        },
        "id": "a9163e26",
        "outputId": "cdd950ee-1c52-40d0-a2d6-1d0ab0b5085a"
      },
      "outputs": [
        {
          "data": {
            "text/plain": [
              "Index(['temperature', 'expiration', 'gender', 'has_children', 'occupation',\n",
              "       'RestaurantLessThan20', 'Restaurant20To50', 'toCoupon_GEQ15min',\n",
              "       'toCoupon_GEQ25min', 'direction_same', 'direction_opp', 'Y',\n",
              "       'dest_Home', 'dest_No Urgent Place', 'dest_Work', 'weath_Rainy',\n",
              "       'weath_Snowy', 'weath_Sunny', 'pass_Alone', 'pass_Friend(s)',\n",
              "       'pass_Kid(s)', 'pass_Partner', 'time_10AM', 'time_10PM', 'time_2PM',\n",
              "       'time_6PM', 'time_7AM', 'coup_Bar', 'coup_Carry out & Take away',\n",
              "       'coup_Coffee House', 'coup_Restaurant(20-50)', 'coup_Restaurant(<20)',\n",
              "       'age_21', 'age_26', 'age_31', 'age_36', 'age_41', 'age_46',\n",
              "       'age_50plus', 'age_below21', 'mari_Stat_Divorced',\n",
              "       'mari_Stat_Married partner', 'mari_Stat_Single',\n",
              "       'mari_Stat_Unmarried partner', 'mari_Stat_Widowed',\n",
              "       'ed_Associates degree', 'ed_Bachelors degree',\n",
              "       'ed_Graduate degree (Masters or Doctorate)', 'ed_High School Graduate',\n",
              "       'ed_Some High School', 'ed_Some college - no degree',\n",
              "       'income_$100000 or More', 'income_$12500 - $24999',\n",
              "       'income_$25000 - $37499', 'income_$37500 - $49999',\n",
              "       'income_$50000 - $62499', 'income_$62500 - $74999',\n",
              "       'income_$75000 - $87499', 'income_$87500 - $99999',\n",
              "       'income_Less than $12500', 'Bar_1~3', 'Bar_4~8', 'Bar_gt8', 'Bar_less1',\n",
              "       'Bar_never', 'Coffee_1~3', 'Coffee_4~8', 'Coffee_gt8', 'Coffee_less1',\n",
              "       'Coffee_never', 'Carry_1~3', 'Carry_4~8', 'Carry_gt8', 'Carry_less1',\n",
              "       'Carry_never'],\n",
              "      dtype='object')"
            ]
          },
          "execution_count": 39,
          "metadata": {},
          "output_type": "execute_result"
        }
      ],
      "source": [
        "cols_cat = pd.get_dummies(df_raw['CarryAway'], prefix = 'Carry')\n",
        "df_raw[cols_cat.columns] = cols_cat\n",
        "df_raw = df_raw.drop(['CarryAway'], axis = 1)\n",
        "df_raw.columns"
      ]
    },
    {
      "cell_type": "code",
      "execution_count": null,
      "id": "1d617a3a",
      "metadata": {
        "colab": {
          "base_uri": "https://localhost:8080/"
        },
        "id": "1d617a3a",
        "outputId": "f6e67dcc-f90a-4182-d0ad-21ceb83eeff3"
      },
      "outputs": [
        {
          "data": {
            "text/plain": [
              "Index(['temperature', 'expiration', 'gender', 'has_children', 'occupation',\n",
              "       'Restaurant20To50', 'toCoupon_GEQ15min', 'toCoupon_GEQ25min',\n",
              "       'direction_same', 'direction_opp', 'Y', 'dest_Home',\n",
              "       'dest_No Urgent Place', 'dest_Work', 'weath_Rainy', 'weath_Snowy',\n",
              "       'weath_Sunny', 'pass_Alone', 'pass_Friend(s)', 'pass_Kid(s)',\n",
              "       'pass_Partner', 'time_10AM', 'time_10PM', 'time_2PM', 'time_6PM',\n",
              "       'time_7AM', 'coup_Bar', 'coup_Carry out & Take away',\n",
              "       'coup_Coffee House', 'coup_Restaurant(20-50)', 'coup_Restaurant(<20)',\n",
              "       'age_21', 'age_26', 'age_31', 'age_36', 'age_41', 'age_46',\n",
              "       'age_50plus', 'age_below21', 'mari_Stat_Divorced',\n",
              "       'mari_Stat_Married partner', 'mari_Stat_Single',\n",
              "       'mari_Stat_Unmarried partner', 'mari_Stat_Widowed',\n",
              "       'ed_Associates degree', 'ed_Bachelors degree',\n",
              "       'ed_Graduate degree (Masters or Doctorate)', 'ed_High School Graduate',\n",
              "       'ed_Some High School', 'ed_Some college - no degree',\n",
              "       'income_$100000 or More', 'income_$12500 - $24999',\n",
              "       'income_$25000 - $37499', 'income_$37500 - $49999',\n",
              "       'income_$50000 - $62499', 'income_$62500 - $74999',\n",
              "       'income_$75000 - $87499', 'income_$87500 - $99999',\n",
              "       'income_Less than $12500', 'Bar_1~3', 'Bar_4~8', 'Bar_gt8', 'Bar_less1',\n",
              "       'Bar_never', 'Coffee_1~3', 'Coffee_4~8', 'Coffee_gt8', 'Coffee_less1',\n",
              "       'Coffee_never', 'Carry_1~3', 'Carry_4~8', 'Carry_gt8', 'Carry_less1',\n",
              "       'Carry_never', 'Restaurant_20_1~3', 'Restaurant_20_4~8',\n",
              "       'Restaurant_20_gt8', 'Restaurant_20_less1', 'Restaurant_20_never'],\n",
              "      dtype='object')"
            ]
          },
          "execution_count": 40,
          "metadata": {},
          "output_type": "execute_result"
        }
      ],
      "source": [
        "cols_cat = pd.get_dummies(df_raw['RestaurantLessThan20'], prefix = 'Restaurant_20')\n",
        "df_raw[cols_cat.columns] = cols_cat\n",
        "df_raw = df_raw.drop(['RestaurantLessThan20'], axis = 1)\n",
        "df_raw.columns"
      ]
    },
    {
      "cell_type": "code",
      "execution_count": null,
      "id": "067e307a",
      "metadata": {
        "colab": {
          "base_uri": "https://localhost:8080/"
        },
        "id": "067e307a",
        "outputId": "f31ec759-2f67-491e-af9a-bcbf30d10ee1"
      },
      "outputs": [
        {
          "data": {
            "text/plain": [
              "Index(['temperature', 'expiration', 'gender', 'has_children', 'occupation',\n",
              "       'toCoupon_GEQ15min', 'toCoupon_GEQ25min', 'direction_same',\n",
              "       'direction_opp', 'Y', 'dest_Home', 'dest_No Urgent Place', 'dest_Work',\n",
              "       'weath_Rainy', 'weath_Snowy', 'weath_Sunny', 'pass_Alone',\n",
              "       'pass_Friend(s)', 'pass_Kid(s)', 'pass_Partner', 'time_10AM',\n",
              "       'time_10PM', 'time_2PM', 'time_6PM', 'time_7AM', 'coup_Bar',\n",
              "       'coup_Carry out & Take away', 'coup_Coffee House',\n",
              "       'coup_Restaurant(20-50)', 'coup_Restaurant(<20)', 'age_21', 'age_26',\n",
              "       'age_31', 'age_36', 'age_41', 'age_46', 'age_50plus', 'age_below21',\n",
              "       'mari_Stat_Divorced', 'mari_Stat_Married partner', 'mari_Stat_Single',\n",
              "       'mari_Stat_Unmarried partner', 'mari_Stat_Widowed',\n",
              "       'ed_Associates degree', 'ed_Bachelors degree',\n",
              "       'ed_Graduate degree (Masters or Doctorate)', 'ed_High School Graduate',\n",
              "       'ed_Some High School', 'ed_Some college - no degree',\n",
              "       'income_$100000 or More', 'income_$12500 - $24999',\n",
              "       'income_$25000 - $37499', 'income_$37500 - $49999',\n",
              "       'income_$50000 - $62499', 'income_$62500 - $74999',\n",
              "       'income_$75000 - $87499', 'income_$87500 - $99999',\n",
              "       'income_Less than $12500', 'Bar_1~3', 'Bar_4~8', 'Bar_gt8', 'Bar_less1',\n",
              "       'Bar_never', 'Coffee_1~3', 'Coffee_4~8', 'Coffee_gt8', 'Coffee_less1',\n",
              "       'Coffee_never', 'Carry_1~3', 'Carry_4~8', 'Carry_gt8', 'Carry_less1',\n",
              "       'Carry_never', 'Restaurant_20_1~3', 'Restaurant_20_4~8',\n",
              "       'Restaurant_20_gt8', 'Restaurant_20_less1', 'Restaurant_20_never',\n",
              "       'Restaurant20_50_1~3', 'Restaurant20_50_4~8', 'Restaurant20_50_gt8',\n",
              "       'Restaurant20_50_less1', 'Restaurant20_50_never'],\n",
              "      dtype='object')"
            ]
          },
          "execution_count": 41,
          "metadata": {},
          "output_type": "execute_result"
        }
      ],
      "source": [
        "cols_cat = pd.get_dummies(df_raw['Restaurant20To50'], prefix = 'Restaurant20_50')\n",
        "df_raw[cols_cat.columns] = cols_cat\n",
        "df_raw = df_raw.drop(['Restaurant20To50'], axis = 1)\n",
        "df_raw.columns"
      ]
    },
    {
      "cell_type": "code",
      "execution_count": null,
      "id": "f8cac62c",
      "metadata": {
        "colab": {
          "base_uri": "https://localhost:8080/"
        },
        "id": "f8cac62c",
        "outputId": "a10d0d7e-9bab-43eb-cc7d-335ca89dec90"
      },
      "outputs": [
        {
          "data": {
            "text/plain": [
              "Index(['temperature', 'expiration', 'gender', 'has_children',\n",
              "       'toCoupon_GEQ15min', 'toCoupon_GEQ25min', 'direction_same',\n",
              "       'direction_opp', 'Y', 'dest_Home',\n",
              "       ...\n",
              "       'occupa_Management', 'occupa_Office & Administrative Support',\n",
              "       'occupa_Personal Care & Service', 'occupa_Production Occupations',\n",
              "       'occupa_Protective Service', 'occupa_Retired', 'occupa_Sales & Related',\n",
              "       'occupa_Student', 'occupa_Transportation & Material Moving',\n",
              "       'occupa_Unemployed'],\n",
              "      dtype='object', length=107)"
            ]
          },
          "execution_count": 42,
          "metadata": {},
          "output_type": "execute_result"
        }
      ],
      "source": [
        "cols_cat = pd.get_dummies(df_raw['occupation'], prefix = 'occupa')\n",
        "df_raw[cols_cat.columns] = cols_cat\n",
        "df_raw = df_raw.drop(['occupation'], axis = 1)\n",
        "df_raw.columns"
      ]
    },
    {
      "cell_type": "code",
      "execution_count": null,
      "id": "f470704b",
      "metadata": {
        "colab": {
          "base_uri": "https://localhost:8080/"
        },
        "id": "f470704b",
        "outputId": "fdbe28e8-6f11-4d48-981e-362265c9ddda"
      },
      "outputs": [
        {
          "name": "stdout",
          "output_type": "stream",
          "text": [
            "<class 'pandas.core.frame.DataFrame'>\n",
            "RangeIndex: 12684 entries, 0 to 12683\n",
            "Columns: 107 entries, temperature to occupa_Unemployed\n",
            "dtypes: int64(9), uint8(98)\n",
            "memory usage: 2.1 MB\n"
          ]
        }
      ],
      "source": [
        "df_raw.info()"
      ]
    },
    {
      "cell_type": "code",
      "execution_count": null,
      "id": "7264f53b",
      "metadata": {
        "colab": {
          "base_uri": "https://localhost:8080/",
          "height": 352
        },
        "id": "7264f53b",
        "outputId": "84b13392-cebf-4de5-938b-c9bc4523533b"
      },
      "outputs": [
        {
          "data": {
            "text/html": [
              "<div>\n",
              "<style scoped>\n",
              "    .dataframe tbody tr th:only-of-type {\n",
              "        vertical-align: middle;\n",
              "    }\n",
              "\n",
              "    .dataframe tbody tr th {\n",
              "        vertical-align: top;\n",
              "    }\n",
              "\n",
              "    .dataframe thead th {\n",
              "        text-align: right;\n",
              "    }\n",
              "</style>\n",
              "<table border=\"1\" class=\"dataframe\">\n",
              "  <thead>\n",
              "    <tr style=\"text-align: right;\">\n",
              "      <th></th>\n",
              "      <th>temperature</th>\n",
              "      <th>expiration</th>\n",
              "      <th>gender</th>\n",
              "      <th>has_children</th>\n",
              "      <th>toCoupon_GEQ15min</th>\n",
              "      <th>toCoupon_GEQ25min</th>\n",
              "      <th>direction_same</th>\n",
              "      <th>direction_opp</th>\n",
              "      <th>Y</th>\n",
              "      <th>dest_Home</th>\n",
              "      <th>...</th>\n",
              "      <th>occupa_Management</th>\n",
              "      <th>occupa_Office &amp; Administrative Support</th>\n",
              "      <th>occupa_Personal Care &amp; Service</th>\n",
              "      <th>occupa_Production Occupations</th>\n",
              "      <th>occupa_Protective Service</th>\n",
              "      <th>occupa_Retired</th>\n",
              "      <th>occupa_Sales &amp; Related</th>\n",
              "      <th>occupa_Student</th>\n",
              "      <th>occupa_Transportation &amp; Material Moving</th>\n",
              "      <th>occupa_Unemployed</th>\n",
              "    </tr>\n",
              "  </thead>\n",
              "  <tbody>\n",
              "    <tr>\n",
              "      <th>0</th>\n",
              "      <td>55</td>\n",
              "      <td>1</td>\n",
              "      <td>0</td>\n",
              "      <td>1</td>\n",
              "      <td>0</td>\n",
              "      <td>0</td>\n",
              "      <td>0</td>\n",
              "      <td>1</td>\n",
              "      <td>1</td>\n",
              "      <td>0</td>\n",
              "      <td>...</td>\n",
              "      <td>0</td>\n",
              "      <td>0</td>\n",
              "      <td>0</td>\n",
              "      <td>0</td>\n",
              "      <td>0</td>\n",
              "      <td>0</td>\n",
              "      <td>0</td>\n",
              "      <td>0</td>\n",
              "      <td>0</td>\n",
              "      <td>1</td>\n",
              "    </tr>\n",
              "    <tr>\n",
              "      <th>1</th>\n",
              "      <td>80</td>\n",
              "      <td>0</td>\n",
              "      <td>0</td>\n",
              "      <td>1</td>\n",
              "      <td>0</td>\n",
              "      <td>0</td>\n",
              "      <td>0</td>\n",
              "      <td>1</td>\n",
              "      <td>0</td>\n",
              "      <td>0</td>\n",
              "      <td>...</td>\n",
              "      <td>0</td>\n",
              "      <td>0</td>\n",
              "      <td>0</td>\n",
              "      <td>0</td>\n",
              "      <td>0</td>\n",
              "      <td>0</td>\n",
              "      <td>0</td>\n",
              "      <td>0</td>\n",
              "      <td>0</td>\n",
              "      <td>1</td>\n",
              "    </tr>\n",
              "    <tr>\n",
              "      <th>2</th>\n",
              "      <td>80</td>\n",
              "      <td>0</td>\n",
              "      <td>0</td>\n",
              "      <td>1</td>\n",
              "      <td>1</td>\n",
              "      <td>0</td>\n",
              "      <td>0</td>\n",
              "      <td>1</td>\n",
              "      <td>1</td>\n",
              "      <td>0</td>\n",
              "      <td>...</td>\n",
              "      <td>0</td>\n",
              "      <td>0</td>\n",
              "      <td>0</td>\n",
              "      <td>0</td>\n",
              "      <td>0</td>\n",
              "      <td>0</td>\n",
              "      <td>0</td>\n",
              "      <td>0</td>\n",
              "      <td>0</td>\n",
              "      <td>1</td>\n",
              "    </tr>\n",
              "    <tr>\n",
              "      <th>3</th>\n",
              "      <td>80</td>\n",
              "      <td>0</td>\n",
              "      <td>0</td>\n",
              "      <td>1</td>\n",
              "      <td>1</td>\n",
              "      <td>0</td>\n",
              "      <td>0</td>\n",
              "      <td>1</td>\n",
              "      <td>0</td>\n",
              "      <td>0</td>\n",
              "      <td>...</td>\n",
              "      <td>0</td>\n",
              "      <td>0</td>\n",
              "      <td>0</td>\n",
              "      <td>0</td>\n",
              "      <td>0</td>\n",
              "      <td>0</td>\n",
              "      <td>0</td>\n",
              "      <td>0</td>\n",
              "      <td>0</td>\n",
              "      <td>1</td>\n",
              "    </tr>\n",
              "    <tr>\n",
              "      <th>4</th>\n",
              "      <td>80</td>\n",
              "      <td>1</td>\n",
              "      <td>0</td>\n",
              "      <td>1</td>\n",
              "      <td>1</td>\n",
              "      <td>0</td>\n",
              "      <td>0</td>\n",
              "      <td>1</td>\n",
              "      <td>0</td>\n",
              "      <td>0</td>\n",
              "      <td>...</td>\n",
              "      <td>0</td>\n",
              "      <td>0</td>\n",
              "      <td>0</td>\n",
              "      <td>0</td>\n",
              "      <td>0</td>\n",
              "      <td>0</td>\n",
              "      <td>0</td>\n",
              "      <td>0</td>\n",
              "      <td>0</td>\n",
              "      <td>1</td>\n",
              "    </tr>\n",
              "  </tbody>\n",
              "</table>\n",
              "<p>5 rows × 107 columns</p>\n",
              "</div>"
            ],
            "text/plain": [
              "   temperature  expiration  gender  has_children  toCoupon_GEQ15min  \\\n",
              "0           55           1       0             1                  0   \n",
              "1           80           0       0             1                  0   \n",
              "2           80           0       0             1                  1   \n",
              "3           80           0       0             1                  1   \n",
              "4           80           1       0             1                  1   \n",
              "\n",
              "   toCoupon_GEQ25min  direction_same  direction_opp  Y  dest_Home  ...  \\\n",
              "0                  0               0              1  1          0  ...   \n",
              "1                  0               0              1  0          0  ...   \n",
              "2                  0               0              1  1          0  ...   \n",
              "3                  0               0              1  0          0  ...   \n",
              "4                  0               0              1  0          0  ...   \n",
              "\n",
              "   occupa_Management  occupa_Office & Administrative Support  \\\n",
              "0                  0                                       0   \n",
              "1                  0                                       0   \n",
              "2                  0                                       0   \n",
              "3                  0                                       0   \n",
              "4                  0                                       0   \n",
              "\n",
              "   occupa_Personal Care & Service  occupa_Production Occupations  \\\n",
              "0                               0                              0   \n",
              "1                               0                              0   \n",
              "2                               0                              0   \n",
              "3                               0                              0   \n",
              "4                               0                              0   \n",
              "\n",
              "   occupa_Protective Service  occupa_Retired  occupa_Sales & Related  \\\n",
              "0                          0               0                       0   \n",
              "1                          0               0                       0   \n",
              "2                          0               0                       0   \n",
              "3                          0               0                       0   \n",
              "4                          0               0                       0   \n",
              "\n",
              "   occupa_Student  occupa_Transportation & Material Moving  occupa_Unemployed  \n",
              "0               0                                        0                  1  \n",
              "1               0                                        0                  1  \n",
              "2               0                                        0                  1  \n",
              "3               0                                        0                  1  \n",
              "4               0                                        0                  1  \n",
              "\n",
              "[5 rows x 107 columns]"
            ]
          },
          "execution_count": 44,
          "metadata": {},
          "output_type": "execute_result"
        }
      ],
      "source": [
        "df_raw.head()"
      ]
    },
    {
      "cell_type": "code",
      "execution_count": null,
      "id": "facbd073",
      "metadata": {
        "id": "facbd073"
      },
      "outputs": [],
      "source": [
        "df_final = df_raw"
      ]
    },
    {
      "cell_type": "code",
      "execution_count": null,
      "id": "2dabe50d",
      "metadata": {
        "colab": {
          "base_uri": "https://localhost:8080/",
          "height": 352
        },
        "id": "2dabe50d",
        "outputId": "5af75f48-15a8-497a-aad5-4fa7f589974f"
      },
      "outputs": [
        {
          "data": {
            "text/html": [
              "<div>\n",
              "<style scoped>\n",
              "    .dataframe tbody tr th:only-of-type {\n",
              "        vertical-align: middle;\n",
              "    }\n",
              "\n",
              "    .dataframe tbody tr th {\n",
              "        vertical-align: top;\n",
              "    }\n",
              "\n",
              "    .dataframe thead th {\n",
              "        text-align: right;\n",
              "    }\n",
              "</style>\n",
              "<table border=\"1\" class=\"dataframe\">\n",
              "  <thead>\n",
              "    <tr style=\"text-align: right;\">\n",
              "      <th></th>\n",
              "      <th>temperature</th>\n",
              "      <th>expiration</th>\n",
              "      <th>gender</th>\n",
              "      <th>has_children</th>\n",
              "      <th>toCoupon_GEQ15min</th>\n",
              "      <th>toCoupon_GEQ25min</th>\n",
              "      <th>direction_same</th>\n",
              "      <th>direction_opp</th>\n",
              "      <th>Y</th>\n",
              "      <th>dest_Home</th>\n",
              "      <th>...</th>\n",
              "      <th>occupa_Management</th>\n",
              "      <th>occupa_Office &amp; Administrative Support</th>\n",
              "      <th>occupa_Personal Care &amp; Service</th>\n",
              "      <th>occupa_Production Occupations</th>\n",
              "      <th>occupa_Protective Service</th>\n",
              "      <th>occupa_Retired</th>\n",
              "      <th>occupa_Sales &amp; Related</th>\n",
              "      <th>occupa_Student</th>\n",
              "      <th>occupa_Transportation &amp; Material Moving</th>\n",
              "      <th>occupa_Unemployed</th>\n",
              "    </tr>\n",
              "  </thead>\n",
              "  <tbody>\n",
              "    <tr>\n",
              "      <th>0</th>\n",
              "      <td>55</td>\n",
              "      <td>1</td>\n",
              "      <td>0</td>\n",
              "      <td>1</td>\n",
              "      <td>0</td>\n",
              "      <td>0</td>\n",
              "      <td>0</td>\n",
              "      <td>1</td>\n",
              "      <td>1</td>\n",
              "      <td>0</td>\n",
              "      <td>...</td>\n",
              "      <td>0</td>\n",
              "      <td>0</td>\n",
              "      <td>0</td>\n",
              "      <td>0</td>\n",
              "      <td>0</td>\n",
              "      <td>0</td>\n",
              "      <td>0</td>\n",
              "      <td>0</td>\n",
              "      <td>0</td>\n",
              "      <td>1</td>\n",
              "    </tr>\n",
              "    <tr>\n",
              "      <th>1</th>\n",
              "      <td>80</td>\n",
              "      <td>0</td>\n",
              "      <td>0</td>\n",
              "      <td>1</td>\n",
              "      <td>0</td>\n",
              "      <td>0</td>\n",
              "      <td>0</td>\n",
              "      <td>1</td>\n",
              "      <td>0</td>\n",
              "      <td>0</td>\n",
              "      <td>...</td>\n",
              "      <td>0</td>\n",
              "      <td>0</td>\n",
              "      <td>0</td>\n",
              "      <td>0</td>\n",
              "      <td>0</td>\n",
              "      <td>0</td>\n",
              "      <td>0</td>\n",
              "      <td>0</td>\n",
              "      <td>0</td>\n",
              "      <td>1</td>\n",
              "    </tr>\n",
              "    <tr>\n",
              "      <th>2</th>\n",
              "      <td>80</td>\n",
              "      <td>0</td>\n",
              "      <td>0</td>\n",
              "      <td>1</td>\n",
              "      <td>1</td>\n",
              "      <td>0</td>\n",
              "      <td>0</td>\n",
              "      <td>1</td>\n",
              "      <td>1</td>\n",
              "      <td>0</td>\n",
              "      <td>...</td>\n",
              "      <td>0</td>\n",
              "      <td>0</td>\n",
              "      <td>0</td>\n",
              "      <td>0</td>\n",
              "      <td>0</td>\n",
              "      <td>0</td>\n",
              "      <td>0</td>\n",
              "      <td>0</td>\n",
              "      <td>0</td>\n",
              "      <td>1</td>\n",
              "    </tr>\n",
              "    <tr>\n",
              "      <th>3</th>\n",
              "      <td>80</td>\n",
              "      <td>0</td>\n",
              "      <td>0</td>\n",
              "      <td>1</td>\n",
              "      <td>1</td>\n",
              "      <td>0</td>\n",
              "      <td>0</td>\n",
              "      <td>1</td>\n",
              "      <td>0</td>\n",
              "      <td>0</td>\n",
              "      <td>...</td>\n",
              "      <td>0</td>\n",
              "      <td>0</td>\n",
              "      <td>0</td>\n",
              "      <td>0</td>\n",
              "      <td>0</td>\n",
              "      <td>0</td>\n",
              "      <td>0</td>\n",
              "      <td>0</td>\n",
              "      <td>0</td>\n",
              "      <td>1</td>\n",
              "    </tr>\n",
              "    <tr>\n",
              "      <th>4</th>\n",
              "      <td>80</td>\n",
              "      <td>1</td>\n",
              "      <td>0</td>\n",
              "      <td>1</td>\n",
              "      <td>1</td>\n",
              "      <td>0</td>\n",
              "      <td>0</td>\n",
              "      <td>1</td>\n",
              "      <td>0</td>\n",
              "      <td>0</td>\n",
              "      <td>...</td>\n",
              "      <td>0</td>\n",
              "      <td>0</td>\n",
              "      <td>0</td>\n",
              "      <td>0</td>\n",
              "      <td>0</td>\n",
              "      <td>0</td>\n",
              "      <td>0</td>\n",
              "      <td>0</td>\n",
              "      <td>0</td>\n",
              "      <td>1</td>\n",
              "    </tr>\n",
              "  </tbody>\n",
              "</table>\n",
              "<p>5 rows × 107 columns</p>\n",
              "</div>"
            ],
            "text/plain": [
              "   temperature  expiration  gender  has_children  toCoupon_GEQ15min  \\\n",
              "0           55           1       0             1                  0   \n",
              "1           80           0       0             1                  0   \n",
              "2           80           0       0             1                  1   \n",
              "3           80           0       0             1                  1   \n",
              "4           80           1       0             1                  1   \n",
              "\n",
              "   toCoupon_GEQ25min  direction_same  direction_opp  Y  dest_Home  ...  \\\n",
              "0                  0               0              1  1          0  ...   \n",
              "1                  0               0              1  0          0  ...   \n",
              "2                  0               0              1  1          0  ...   \n",
              "3                  0               0              1  0          0  ...   \n",
              "4                  0               0              1  0          0  ...   \n",
              "\n",
              "   occupa_Management  occupa_Office & Administrative Support  \\\n",
              "0                  0                                       0   \n",
              "1                  0                                       0   \n",
              "2                  0                                       0   \n",
              "3                  0                                       0   \n",
              "4                  0                                       0   \n",
              "\n",
              "   occupa_Personal Care & Service  occupa_Production Occupations  \\\n",
              "0                               0                              0   \n",
              "1                               0                              0   \n",
              "2                               0                              0   \n",
              "3                               0                              0   \n",
              "4                               0                              0   \n",
              "\n",
              "   occupa_Protective Service  occupa_Retired  occupa_Sales & Related  \\\n",
              "0                          0               0                       0   \n",
              "1                          0               0                       0   \n",
              "2                          0               0                       0   \n",
              "3                          0               0                       0   \n",
              "4                          0               0                       0   \n",
              "\n",
              "   occupa_Student  occupa_Transportation & Material Moving  occupa_Unemployed  \n",
              "0               0                                        0                  1  \n",
              "1               0                                        0                  1  \n",
              "2               0                                        0                  1  \n",
              "3               0                                        0                  1  \n",
              "4               0                                        0                  1  \n",
              "\n",
              "[5 rows x 107 columns]"
            ]
          },
          "execution_count": 46,
          "metadata": {},
          "output_type": "execute_result"
        }
      ],
      "source": [
        "df_final.head()"
      ]
    },
    {
      "cell_type": "code",
      "execution_count": null,
      "id": "c96df503",
      "metadata": {
        "id": "c96df503"
      },
      "outputs": [],
      "source": [
        "# Splitting features and target variables from dataframe.\n",
        "y = df_final['Y']\n",
        "X = df_final.drop(['Y'], axis = 1)"
      ]
    },
    {
      "cell_type": "code",
      "execution_count": null,
      "id": "06364f57",
      "metadata": {
        "colab": {
          "base_uri": "https://localhost:8080/"
        },
        "id": "06364f57",
        "outputId": "e322b18c-5ea4-4ed9-be5f-a2b870ad98ef"
      },
      "outputs": [
        {
          "data": {
            "text/plain": [
              "1    7210\n",
              "0    5474\n",
              "Name: Y, dtype: int64"
            ]
          },
          "execution_count": 48,
          "metadata": {},
          "output_type": "execute_result"
        }
      ],
      "source": [
        "y.value_counts()"
      ]
    },
    {
      "cell_type": "code",
      "execution_count": null,
      "id": "841580af",
      "metadata": {
        "id": "841580af"
      },
      "outputs": [],
      "source": [
        "# Train and Test split\n",
        "X_train, X_test, y_train, y_test = train_test_split(X, y, test_size=0.20, random_state=42)"
      ]
    },
    {
      "cell_type": "code",
      "execution_count": null,
      "id": "5efe68ab",
      "metadata": {
        "id": "5efe68ab"
      },
      "outputs": [],
      "source": [
        "# Applying scaling on feature variables\n",
        "scaler = MinMaxScaler()\n",
        "\n",
        "X_train = scaler.fit_transform(X_train)\n",
        "X_test = scaler.transform(X_test)"
      ]
    },
    {
      "cell_type": "code",
      "execution_count": null,
      "id": "c9f41238",
      "metadata": {
        "colab": {
          "base_uri": "https://localhost:8080/"
        },
        "id": "c9f41238",
        "outputId": "25ccb348-bbc3-47da-dc6b-763742453e1c"
      },
      "outputs": [
        {
          "data": {
            "text/plain": [
              "RandomForestClassifier()"
            ]
          },
          "execution_count": 54,
          "metadata": {},
          "output_type": "execute_result"
        }
      ],
      "source": [
        "#Random Forest Classifier model with Train and Test split \n",
        "clf_base = RandomForestClassifier()\n",
        "\n",
        "#Training the model\n",
        "clf_base.fit(X_train,y_train)"
      ]
    },
    {
      "cell_type": "code",
      "execution_count": null,
      "id": "c04a7e4f",
      "metadata": {
        "id": "c04a7e4f"
      },
      "outputs": [],
      "source": [
        "y_pred = clf_base.predict(X_test)\n",
        "#y_pred = cross_val_predict(clf_base, X_test, y_test, cv=cross_val_st) "
      ]
    },
    {
      "cell_type": "code",
      "execution_count": null,
      "id": "2665c30a",
      "metadata": {
        "colab": {
          "base_uri": "https://localhost:8080/"
        },
        "id": "2665c30a",
        "outputId": "95c9b8ba-32bb-473c-c4e7-47245c003a29"
      },
      "outputs": [
        {
          "name": "stdout",
          "output_type": "stream",
          "text": [
            "RF Base line model accuracy: 74.85218762317697\n"
          ]
        }
      ],
      "source": [
        "# Random Forest baseline model accuracy\n",
        "print(\"RF Base line model accuracy:\", metrics.accuracy_score(y_test, y_pred)*100)"
      ]
    },
    {
      "cell_type": "code",
      "execution_count": null,
      "id": "ee1e847e",
      "metadata": {
        "colab": {
          "base_uri": "https://localhost:8080/"
        },
        "id": "ee1e847e",
        "outputId": "b6922b8a-842a-4526-e4b2-c56b3d5d868d"
      },
      "outputs": [
        {
          "name": "stdout",
          "output_type": "stream",
          "text": [
            "              precision    recall  f1-score   support\n",
            "\n",
            "           0       0.75      0.65      0.70      1128\n",
            "           1       0.75      0.83      0.79      1409\n",
            "\n",
            "    accuracy                           0.75      2537\n",
            "   macro avg       0.75      0.74      0.74      2537\n",
            "weighted avg       0.75      0.75      0.75      2537\n",
            "\n"
          ]
        }
      ],
      "source": [
        "# Random Forest baseline classification report\n",
        "print(metrics.classification_report(y_test, y_pred))"
      ]
    },
    {
      "cell_type": "code",
      "execution_count": null,
      "id": "45af60a2",
      "metadata": {
        "colab": {
          "base_uri": "https://localhost:8080/"
        },
        "id": "45af60a2",
        "outputId": "76b7663b-4304-4cad-a012-3f229df0b901"
      },
      "outputs": [
        {
          "name": "stdout",
          "output_type": "stream",
          "text": [
            "Accuracy from each of 10 folds:  [0.76595745 0.76201734 0.75019701 0.75098503 0.77681388 0.76104101\n",
            " 0.7681388  0.75315457 0.77760252 0.76735016]\n",
            "0.76 Mean accuracy for Random Forest base model with a standard deviation of 0.01\n"
          ]
        }
      ],
      "source": [
        "#Random Forest base line model - Mean and Std deviation with stratified cross validation.\n",
        "cross_val = StratifiedKFold(n_splits=10)\n",
        "\n",
        "X_s, y_s = shuffle(X, y)\n",
        "rf_cv_scores = cross_val_score(clf_base, X_s, y_s, cv = cross_val)\n",
        "\n",
        "print(\"Accuracy from each of 10 folds: \", rf_cv_scores)\n",
        "print(\"%0.2f Mean accuracy for Random Forest base model with a standard deviation of %0.2f\" % (rf_cv_scores.mean(), rf_cv_scores.std()))"
      ]
    },
    {
      "cell_type": "code",
      "execution_count": null,
      "id": "ec0ac850",
      "metadata": {
        "colab": {
          "base_uri": "https://localhost:8080/",
          "height": 282
        },
        "id": "ec0ac850",
        "outputId": "74f99eff-74d0-429e-9bc3-ae14ce85c759"
      },
      "outputs": [
        {
          "data": {
            "text/plain": [
              "<matplotlib.axes._subplots.AxesSubplot at 0x7fdb303b82d0>"
            ]
          },
          "execution_count": 61,
          "metadata": {},
          "output_type": "execute_result"
        },
        {
          "data": {
            "image/png": "[encoded data removed]",
            "text/plain": [
              "<Figure size 432x288 with 1 Axes>"
            ]
          },
          "metadata": {
            "needs_background": "light"
          },
          "output_type": "display_data"
        }
      ],
      "source": [
        "# Feature importance before hyper parameter tunning\n",
        "feat_importance = clf_base.feature_importances_\n",
        "\n",
        "feat_importances_pre_hyper = pd.Series(feat_importance, index = X.columns)\n",
        "feat_importances_pre_hyper.nlargest(20).plot(kind='barh')"
      ]
    },
    {
      "cell_type": "markdown",
      "id": "7308564e",
      "metadata": {
        "id": "7308564e"
      },
      "source": [
        "Random Forest Classification for with hyper parameter set 1:"
      ]
    },
    {
      "cell_type": "code",
      "execution_count": null,
      "id": "cc2f1431",
      "metadata": {
        "colab": {
          "base_uri": "https://localhost:8080/"
        },
        "id": "cc2f1431",
        "outputId": "ea70c731-2b6f-4ad0-fac3-2dd2f482f7f8"
      },
      "outputs": [
        {
          "data": {
            "text/plain": [
              "GridSearchCV(cv=StratifiedKFold(n_splits=10, random_state=None, shuffle=False),\n",
              "             estimator=RandomForestClassifier(),\n",
              "             param_grid={'criterion': ['entropy', 'gini'],\n",
              "                         'max_depth': [1, 2, 3, 4, 5, 6, 7],\n",
              "                         'max_features': ['auto', 'sqrt', 'log2'],\n",
              "                         'n_estimators': [10, 50, 100]})"
            ]
          },
          "execution_count": 62,
          "metadata": {},
          "output_type": "execute_result"
        }
      ],
      "source": [
        "# Iteration 1: Perform 10 fold grid search to tune hyperparameter of the random forest model.\n",
        "cross_val = StratifiedKFold(n_splits=10)\n",
        "#index_iterator = cross_val.split(X_train, y_train)\n",
        "\n",
        "clf_random = RandomForestClassifier()\n",
        "\n",
        "params_1 = { \n",
        "    'n_estimators': [10, 50, 100],\n",
        "    'max_features': ['auto','sqrt','log2'],\n",
        "    'max_depth' : list(range(1, 8)),\n",
        "    'criterion' :['entropy', 'gini'] \n",
        "}\n",
        "\n",
        "clf_rf = GridSearchCV(clf_random, params_1, cv = cross_val, verbose=0)\n",
        "\n",
        "#rf_model = clf_rf.fit(X,y)\n",
        "\n",
        "clf_rf.fit(X_train, y_train)"
      ]
    },
    {
      "cell_type": "code",
      "execution_count": null,
      "id": "deb3c671",
      "metadata": {
        "colab": {
          "base_uri": "https://localhost:8080/"
        },
        "id": "deb3c671",
        "outputId": "95c43d9b-b12a-4511-a005-49a6c752adc2"
      },
      "outputs": [
        {
          "data": {
            "text/plain": [
              "{'criterion': 'entropy',\n",
              " 'max_depth': 7,\n",
              " 'max_features': 'sqrt',\n",
              " 'n_estimators': 100}"
            ]
          },
          "execution_count": 63,
          "metadata": {},
          "output_type": "execute_result"
        }
      ],
      "source": [
        "clf_rf.best_params_"
      ]
    },
    {
      "cell_type": "code",
      "execution_count": null,
      "id": "72fa9074",
      "metadata": {
        "colab": {
          "base_uri": "https://localhost:8080/"
        },
        "id": "72fa9074",
        "outputId": "a315970b-3583-4ae9-d8c8-79cb1eb24573"
      },
      "outputs": [
        {
          "name": "stdout",
          "output_type": "stream",
          "text": [
            "Random Forest Model Hyper Param 1 accuracy from each of 10 folds:  [0.7178881  0.73049645 0.73680063 0.71000788 0.70583596 0.69400631\n",
            " 0.71214511 0.72160883 0.71845426 0.71451104]\n",
            "Random Forest Model Hyper Param 1 Mean Accuracy: 71.618%, Random Forest Model Hyper Param 1 Standard Deviation: (1.150%)\n"
          ]
        }
      ],
      "source": [
        "# Investigate the per fold accuracy, mean accuracy with deviation  for Random Forest Classifier model iteration 1 of hyper parameter tunning \n",
        "rfc_hyper_param_1 = RandomForestClassifier(max_depth=7, n_estimators=100, max_features='sqrt', criterion = 'entropy')\n",
        "cross_val = StratifiedKFold(n_splits=10)\n",
        "\n",
        "X_s, y_s = shuffle(X, y)\n",
        "cv_results_rf_hyp_1 = cross_val_score(rfc_hyper_param_1, X_s, y_s, cv = cross_val, scoring='accuracy')\n",
        "\n",
        "print(\"Random Forest Model Hyper Param 1 accuracy from each of 10 folds: \", cv_results_rf_hyp_1)\n",
        "print(\"Random Forest Model Hyper Param 1 Mean Accuracy: %.3f%%, Random Forest Model Hyper Param 1 Standard Deviation: (%.3f%%)\" % (cv_results_rf_hyp_1.mean()*100.0, cv_results_rf_hyp_1.std()*100.0))"
      ]
    },
    {
      "cell_type": "code",
      "execution_count": null,
      "id": "ebd2cc1f",
      "metadata": {
        "colab": {
          "base_uri": "https://localhost:8080/"
        },
        "id": "ebd2cc1f",
        "outputId": "c7621fdf-a94b-4137-9a22-632ccf62a659"
      },
      "outputs": [
        {
          "name": "stdout",
          "output_type": "stream",
          "text": [
            "Accuracy of Random Forest Classifier model with Train and Test split in iteration 1 of hyper parameter tunning: 0.7047694126921561\n"
          ]
        }
      ],
      "source": [
        "#Training the Random Forest Classifier model with Train and Test split in iteration 1 of hyper parameter tunning \n",
        "rfc_hyper_param_1.fit(X_train,y_train)\n",
        "\n",
        "y_pred_hyp_1 = rfc_hyper_param_1.predict(X_test)\n",
        "\n",
        "# Model Accuracy\n",
        "print(\"Accuracy of Random Forest Classifier model with Train and Test split in iteration 1 of hyper parameter tunning:\", metrics.accuracy_score(y_test, y_pred_hyp_1))"
      ]
    },
    {
      "cell_type": "code",
      "execution_count": null,
      "id": "35487df8",
      "metadata": {
        "colab": {
          "base_uri": "https://localhost:8080/"
        },
        "id": "35487df8",
        "outputId": "341fd4c5-d2b3-404c-f9b8-17aeab94c772"
      },
      "outputs": [
        {
          "name": "stdout",
          "output_type": "stream",
          "text": [
            "Classification report of Random Forest Classifier model with Train and Test split in iteration 1 of hyper parameter tunning:               precision    recall  f1-score   support\n",
            "\n",
            "           0       0.74      0.51      0.61      1128\n",
            "           1       0.69      0.86      0.76      1409\n",
            "\n",
            "    accuracy                           0.70      2537\n",
            "   macro avg       0.72      0.69      0.69      2537\n",
            "weighted avg       0.71      0.70      0.69      2537\n",
            "\n"
          ]
        }
      ],
      "source": [
        "print(\"Classification report of Random Forest Classifier model with Train and Test split in iteration 1 of hyper parameter tunning:\", metrics.classification_report(y_test, y_pred_hyp_1))"
      ]
    },
    {
      "cell_type": "code",
      "execution_count": null,
      "id": "46d60a77",
      "metadata": {
        "colab": {
          "base_uri": "https://localhost:8080/"
        },
        "id": "46d60a77",
        "outputId": "b17cb9b9-986e-49da-83e4-a671e71832e9"
      },
      "outputs": [
        {
          "data": {
            "text/plain": [
              "GridSearchCV(cv=StratifiedKFold(n_splits=10, random_state=None, shuffle=False),\n",
              "             estimator=RandomForestClassifier(),\n",
              "             param_grid={'bootstrap': [True, False],\n",
              "                         'max_depth': [8, 9, 10, 11, 12, 13, 14, 15],\n",
              "                         'min_samples_split': [1, 3, 7],\n",
              "                         'n_estimators': [50, 150, 300]})"
            ]
          },
          "execution_count": 67,
          "metadata": {},
          "output_type": "execute_result"
        }
      ],
      "source": [
        "# Iteration 2: Perform 10 fold grid search to tune hyperparameter of the random forest model.\n",
        "cross_val = StratifiedKFold(n_splits=10)\n",
        "#index_iterator = cross_val.split(X_train, y_train)\n",
        "\n",
        "clf_random_2 = RandomForestClassifier()\n",
        "\n",
        "params_2 = {\n",
        "    'n_estimators': [50, 150, 300],\n",
        "    'max_depth' : list(range(8, 16)),\n",
        "    'min_samples_split' : [1, 3, 7],\n",
        "    'bootstrap' : [True, False]\n",
        "}\n",
        "\n",
        "clf_rf_2 = GridSearchCV(clf_random_2, params_2, cv = cross_val, verbose=0)\n",
        "\n",
        "#rf_model_2 = clf_rf_2.fit(X,y)\n",
        "\n",
        "clf_rf_2.fit(X_train, y_train)"
      ]
    },
    {
      "cell_type": "code",
      "execution_count": null,
      "id": "043d2f1e",
      "metadata": {
        "colab": {
          "base_uri": "https://localhost:8080/"
        },
        "id": "043d2f1e",
        "outputId": "11aba7c9-730a-41b2-b89a-3a5f36d7e638"
      },
      "outputs": [
        {
          "name": "stdout",
          "output_type": "stream",
          "text": [
            "Best Parameter RF Itr2: {'bootstrap': False, 'max_depth': 15, 'min_samples_split': 3, 'n_estimators': 300}\n"
          ]
        }
      ],
      "source": [
        "print('Best Parameter RF Itr2:', clf_rf_2.best_params_)"
      ]
    },
    {
      "cell_type": "code",
      "execution_count": null,
      "id": "2c3d9539",
      "metadata": {
        "colab": {
          "base_uri": "https://localhost:8080/"
        },
        "id": "2c3d9539",
        "outputId": "3ca55714-f6b2-4be8-8777-d6c665c197f5"
      },
      "outputs": [
        {
          "name": "stdout",
          "output_type": "stream",
          "text": [
            "Random Forest Model Hyper Param 2 accuracy from each of 10 folds:  [0.75886525 0.75492514 0.76910954 0.74783294 0.75394322 0.76182965\n",
            " 0.74684543 0.75       0.77444795 0.75788644]\n",
            "Random Forest Model Hyper Param 2 Mean Accuracy: 75.757%, Random Forest Model Hyper Param 2 Standard Deviation: (0.852%)\n"
          ]
        }
      ],
      "source": [
        "rfc_hyper_param_2 = RandomForestClassifier(max_depth=15, n_estimators=300, bootstrap='false', min_samples_split = 3)\n",
        "cross_val = StratifiedKFold(n_splits=10)\n",
        "\n",
        "X_s, y_s = shuffle(X, y)\n",
        "cv_results_rf_hyp_2 = cross_val_score(rfc_hyper_param_2, X_s, y_s, cv = cross_val, scoring='accuracy')\n",
        "\n",
        "print(\"Random Forest Model Hyper Param 2 accuracy from each of 10 folds: \", cv_results_rf_hyp_2)\n",
        "print(\"Random Forest Model Hyper Param 2 Mean Accuracy: %.3f%%, Random Forest Model Hyper Param 2 Standard Deviation: (%.3f%%)\" % (cv_results_rf_hyp_2.mean()*100.0, cv_results_rf_hyp_2.std()*100.0))"
      ]
    },
    {
      "cell_type": "code",
      "execution_count": null,
      "id": "97d2e204",
      "metadata": {
        "colab": {
          "base_uri": "https://localhost:8080/"
        },
        "id": "97d2e204",
        "outputId": "42d8283d-013d-406e-96bd-cfe4620ce5ab"
      },
      "outputs": [
        {
          "name": "stdout",
          "output_type": "stream",
          "text": [
            "Accuracy of Random Forest Classifier model with Train and Test split in iteration 2 of hyper parameter tunning: 0.7437918801734332\n"
          ]
        }
      ],
      "source": [
        "#Training the Random Forest Classifier model with Train and Test split in iteration 2 of hyper parameter tunning \n",
        "rfc_hyper_param_2.fit(X_train,y_train)\n",
        "\n",
        "y_pred_hyp_2 = rfc_hyper_param_2.predict(X_test)\n",
        "\n",
        "# Model Accuracy\n",
        "print(\"Accuracy of Random Forest Classifier model with Train and Test split in iteration 2 of hyper parameter tunning:\", metrics.accuracy_score(y_test, y_pred_hyp_2))"
      ]
    },
    {
      "cell_type": "code",
      "execution_count": null,
      "id": "3f952fd4",
      "metadata": {
        "colab": {
          "base_uri": "https://localhost:8080/"
        },
        "id": "3f952fd4",
        "outputId": "e01b913f-8a0b-4ebb-8105-805013f71bd5"
      },
      "outputs": [
        {
          "name": "stdout",
          "output_type": "stream",
          "text": [
            "Classification report of Random Forest Classifier model with Train and Test split in iteration 2 of hyper parameter tunning:               precision    recall  f1-score   support\n",
            "\n",
            "           0       0.76      0.61      0.68      1128\n",
            "           1       0.73      0.85      0.79      1409\n",
            "\n",
            "    accuracy                           0.74      2537\n",
            "   macro avg       0.75      0.73      0.73      2537\n",
            "weighted avg       0.75      0.74      0.74      2537\n",
            "\n"
          ]
        }
      ],
      "source": [
        "print(\"Classification report of Random Forest Classifier model with Train and Test split in iteration 2 of hyper parameter tunning:\", metrics.classification_report(y_test, y_pred_hyp_2))"
      ]
    },
    {
      "cell_type": "code",
      "execution_count": null,
      "id": "b32e923a",
      "metadata": {
        "colab": {
          "base_uri": "https://localhost:8080/"
        },
        "id": "b32e923a",
        "outputId": "83867bdf-5f0c-41ba-d1da-09be9c5ba6fb"
      },
      "outputs": [
        {
          "data": {
            "text/plain": [
              "GridSearchCV(cv=StratifiedKFold(n_splits=10, random_state=None, shuffle=False),\n",
              "             estimator=RandomForestClassifier(),\n",
              "             param_grid={'max_depth': [15, 16, 17, 18, 19, 20, 21, 22, 23, 24,\n",
              "                                       25, 26, 27, 28, 29],\n",
              "                         'max_features': ['auto', 'sqrt', 'log2'],\n",
              "                         'min_samples_leaf': [1, 3, 5],\n",
              "                         'n_estimators': [200, 500, 700],\n",
              "                         'random_state': [101]})"
            ]
          },
          "execution_count": 72,
          "metadata": {},
          "output_type": "execute_result"
        }
      ],
      "source": [
        "# Iteration 3: Perform 10 fold grid search to tune hyperparameter of the random forest model.\n",
        "cross_val = StratifiedKFold(n_splits=10)\n",
        "#index_iterator = cross_val.split(X_train, y_train)\n",
        "\n",
        "params_3 = {\n",
        "    'n_estimators': [200, 500, 700],\n",
        "    'max_depth' : list(range(15, 30)),\n",
        "    'max_features': ['auto', 'sqrt', 'log2'],\n",
        "    'min_samples_leaf': [1, 3, 5],\n",
        "    'random_state': [101]\n",
        "}\n",
        "\n",
        "clf_random_3 = RandomForestClassifier()\n",
        "\n",
        "clf_rf_3 = GridSearchCV(clf_random_3, params_3, cv = cross_val, verbose=0)\n",
        "\n",
        "#rf_model_3 = clf_rf_3.fit(X,y)\n",
        "\n",
        "clf_rf_3.fit(X_train, y_train)"
      ]
    },
    {
      "cell_type": "code",
      "execution_count": null,
      "id": "c06dbbe4",
      "metadata": {
        "colab": {
          "base_uri": "https://localhost:8080/"
        },
        "id": "c06dbbe4",
        "outputId": "45f27faa-6798-4bcc-ec86-dab68f9ce1ef"
      },
      "outputs": [
        {
          "name": "stdout",
          "output_type": "stream",
          "text": [
            "Best Parameter RF Itr3: {'max_depth': 23, 'max_features': 'auto', 'min_samples_leaf': 1, 'n_estimators': 700, 'random_state': 101}\n"
          ]
        }
      ],
      "source": [
        "print('Best Parameter RF Itr3:', clf_rf_3.best_params_)"
      ]
    },
    {
      "cell_type": "code",
      "execution_count": null,
      "id": "800908fc",
      "metadata": {
        "colab": {
          "base_uri": "https://localhost:8080/"
        },
        "id": "800908fc",
        "outputId": "81f82a9f-45a8-4da7-866e-407af02189d4"
      },
      "outputs": [
        {
          "name": "stdout",
          "output_type": "stream",
          "text": [
            "Random Forest Model Hyper Param 3 accuracy from each of 10 folds:  [0.78014184 0.76201734 0.76910954 0.75571316 0.76892744 0.76656151\n",
            " 0.76577287 0.77287066 0.78233438 0.7681388 ]\n",
            "Random Forest Model Hyper Param 3 Mean Accuracy: 76.916%, Random Forest Model Hyper Param 3 Standard Deviation: (0.748%)\n"
          ]
        }
      ],
      "source": [
        "rfc_hyper_param_3 = RandomForestClassifier(max_depth=23, n_estimators=700, max_features='auto', min_samples_leaf = 1, random_state = 101)\n",
        "cross_val = StratifiedKFold(n_splits=10)\n",
        "\n",
        "X_s, y_s = shuffle(X, y)\n",
        "cv_results_rf_hyp_3 = cross_val_score(rfc_hyper_param_3, X_s, y_s, cv = cross_val, scoring='accuracy')\n",
        "\n",
        "print(\"Random Forest Model Hyper Param 3 accuracy from each of 10 folds: \", cv_results_rf_hyp_3)\n",
        "print(\"Random Forest Model Hyper Param 3 Mean Accuracy: %.3f%%, Random Forest Model Hyper Param 3 Standard Deviation: (%.3f%%)\" % (cv_results_rf_hyp_3.mean()*100.0, cv_results_rf_hyp_3.std()*100.0))"
      ]
    },
    {
      "cell_type": "code",
      "execution_count": null,
      "id": "dd0da651",
      "metadata": {
        "colab": {
          "base_uri": "https://localhost:8080/"
        },
        "id": "dd0da651",
        "outputId": "a75c3ad3-d918-49eb-b7b2-f9fc12bca41e"
      },
      "outputs": [
        {
          "name": "stdout",
          "output_type": "stream",
          "text": [
            "Accuracy of Random Forest Classifier model with Train and Test split in iteration 3 of hyper parameter tunning: 0.7532518722901064\n"
          ]
        }
      ],
      "source": [
        "#Training the Random Forest Classifier model with Train and Test split in iteration 3 with hyper parameter tunning \n",
        "rfc_hyper_param_3.fit(X_train,y_train)\n",
        "\n",
        "y_pred_hyp_3 = rfc_hyper_param_3.predict(X_test)\n",
        "\n",
        "# Model Accuracy\n",
        "print(\"Accuracy of Random Forest Classifier model with Train and Test split in iteration 3 of hyper parameter tunning:\", metrics.accuracy_score(y_test, y_pred_hyp_3))"
      ]
    },
    {
      "cell_type": "code",
      "execution_count": null,
      "id": "0fafb5d9",
      "metadata": {
        "colab": {
          "base_uri": "https://localhost:8080/"
        },
        "id": "0fafb5d9",
        "outputId": "21665008-4682-495d-d82c-a05610559f08"
      },
      "outputs": [
        {
          "name": "stdout",
          "output_type": "stream",
          "text": [
            "Classification report of Random Forest Classifier model with Train and Test split in iteration 3 of hyper parameter tunning:               precision    recall  f1-score   support\n",
            "\n",
            "           0       0.77      0.64      0.70      1128\n",
            "           1       0.75      0.84      0.79      1409\n",
            "\n",
            "    accuracy                           0.75      2537\n",
            "   macro avg       0.76      0.74      0.74      2537\n",
            "weighted avg       0.75      0.75      0.75      2537\n",
            "\n"
          ]
        }
      ],
      "source": [
        "print(\"Classification report of Random Forest Classifier model with Train and Test split in iteration 3 of hyper parameter tunning:\", metrics.classification_report(y_test, y_pred_hyp_3))"
      ]
    },
    {
      "cell_type": "markdown",
      "id": "9bef3069",
      "metadata": {
        "id": "9bef3069"
      },
      "source": [
        "Feature importance post hyperparameter tunning of Random Forest Model:"
      ]
    },
    {
      "cell_type": "code",
      "execution_count": null,
      "id": "508bf025",
      "metadata": {
        "colab": {
          "base_uri": "https://localhost:8080/",
          "height": 282
        },
        "id": "508bf025",
        "outputId": "47bfbf70-e68f-464f-f630-dff313ec3bdd"
      },
      "outputs": [
        {
          "data": {
            "text/plain": [
              "<matplotlib.axes._subplots.AxesSubplot at 0x7fdb2f75d990>"
            ]
          },
          "execution_count": 77,
          "metadata": {},
          "output_type": "execute_result"
        },
        {
          "data": {
            "image/png": "[encoded data removed]",
            "text/plain": [
              "<Figure size 432x288 with 1 Axes>"
            ]
          },
          "metadata": {
            "needs_background": "light"
          },
          "output_type": "display_data"
        }
      ],
      "source": [
        "# Feature importance before hyper parameter tunning\n",
        "importance = rfc_hyper_param_3.feature_importances_\n",
        "\n",
        "feat_importances_post_hyper = pd.Series(importance, index = X.columns)\n",
        "feat_importances_post_hyper.nlargest(20).plot(kind='barh')"
      ]
    },
    {
      "cell_type": "markdown",
      "id": "b44e3cb8",
      "metadata": {
        "id": "b44e3cb8"
      },
      "source": [
        "# SVM Classifier"
      ]
    },
    {
      "cell_type": "code",
      "execution_count": null,
      "id": "e990d950",
      "metadata": {
        "colab": {
          "base_uri": "https://localhost:8080/"
        },
        "id": "e990d950",
        "outputId": "fb2adf47-f685-4420-b8bd-f96afb09c7fa"
      },
      "outputs": [
        {
          "name": "stdout",
          "output_type": "stream",
          "text": [
            "              precision    recall  f1-score   support\n",
            "\n",
            "           0       0.75      0.64      0.69      1128\n",
            "           1       0.74      0.83      0.78      1409\n",
            "\n",
            "    accuracy                           0.74      2537\n",
            "   macro avg       0.74      0.73      0.74      2537\n",
            "weighted avg       0.74      0.74      0.74      2537\n",
            "\n"
          ]
        }
      ],
      "source": [
        "# train the model on train set\n",
        "model_base_SVM = SVC()\n",
        "model_base_SVM.fit(X_train, y_train)\n",
        " \n",
        "# print prediction results\n",
        "y_pred_base = model_base_SVM.predict(X_test)\n",
        "print(classification_report(y_test, y_pred_base))"
      ]
    },
    {
      "cell_type": "code",
      "execution_count": null,
      "id": "65238fb5",
      "metadata": {
        "colab": {
          "base_uri": "https://localhost:8080/"
        },
        "id": "65238fb5",
        "outputId": "a3fab491-904e-44f5-b994-0d366ccc7b2e"
      },
      "outputs": [
        {
          "name": "stdout",
          "output_type": "stream",
          "text": [
            "SVM accuracy for testing dataset without hyper parameter tuning is : 74.42%\n"
          ]
        }
      ],
      "source": [
        "test_accuracy_svm_base = accuracy_score(y_test,y_pred_base)*100\n",
        "\n",
        "print(\"SVM accuracy for testing dataset without hyper parameter tuning is : {:.2f}%\".format(test_accuracy_svm_base) )"
      ]
    },
    {
      "cell_type": "code",
      "execution_count": null,
      "id": "40aa715d",
      "metadata": {
        "colab": {
          "base_uri": "https://localhost:8080/"
        },
        "id": "40aa715d",
        "outputId": "d096e9eb-a170-4149-dcc8-187ccae44c89"
      },
      "outputs": [
        {
          "name": "stdout",
          "output_type": "stream",
          "text": [
            "SVM Model accuracy from each of 10 folds:  [0.57525611 0.57604413 0.57683215 0.57210402 0.57413249 0.58044164\n",
            " 0.579653   0.57492114 0.57097792 0.57176656]\n",
            "SVM Model Mean Accuracy: 57.521%, SVM Model Standard Deviation: (0.302%)\n"
          ]
        }
      ],
      "source": [
        "#SVM model - Mean and Std deviation.\n",
        "cross_val = StratifiedKFold(n_splits=10)\n",
        "X_s, y_s = shuffle(X, y)\n",
        "scores = cross_val_score(model_base_SVM, X_s, y_s, cv = cross_val, scoring='accuracy')\n",
        "\n",
        "print(\"SVM Model accuracy from each of 10 folds: \", scores)\n",
        "print(\"SVM Model Mean Accuracy: %.3f%%, SVM Model Standard Deviation: (%.3f%%)\" % (scores.mean()*100.0, scores.std()*100.0))"
      ]
    },
    {
      "cell_type": "code",
      "execution_count": null,
      "id": "559a113e",
      "metadata": {
        "id": "559a113e",
        "outputId": "b7f20a83-dfa6-48a9-d309-d32579b8d008"
      },
      "outputs": [
        {
          "name": "stdout",
          "output_type": "stream",
          "text": [
            "Fitting 10 folds for each of 27 candidates, totalling 270 fits\n",
            "[CV 1/10] END .......C=0.1, gamma=1, kernel=rbf;, score=0.571 total time=  18.3s\n",
            "[CV 2/10] END .......C=0.1, gamma=1, kernel=rbf;, score=0.571 total time=  18.9s\n",
            "[CV 3/10] END .......C=0.1, gamma=1, kernel=rbf;, score=0.571 total time=  18.1s\n",
            "[CV 4/10] END .......C=0.1, gamma=1, kernel=rbf;, score=0.571 total time=  18.0s\n",
            "[CV 5/10] END .......C=0.1, gamma=1, kernel=rbf;, score=0.571 total time=  17.8s\n",
            "[CV 6/10] END .......C=0.1, gamma=1, kernel=rbf;, score=0.571 total time=  18.0s\n",
            "[CV 7/10] END .......C=0.1, gamma=1, kernel=rbf;, score=0.572 total time=  18.2s\n",
            "[CV 8/10] END .......C=0.1, gamma=1, kernel=rbf;, score=0.572 total time=  18.5s\n",
            "[CV 9/10] END .......C=0.1, gamma=1, kernel=rbf;, score=0.572 total time=  18.2s\n",
            "[CV 10/10] END ......C=0.1, gamma=1, kernel=rbf;, score=0.572 total time=  18.0s\n",
            "[CV 1/10] END ......C=0.1, gamma=1, kernel=poly;, score=0.748 total time=  16.8s\n",
            "[CV 2/10] END ......C=0.1, gamma=1, kernel=poly;, score=0.713 total time=  18.4s\n",
            "[CV 3/10] END ......C=0.1, gamma=1, kernel=poly;, score=0.713 total time=  18.2s\n",
            "[CV 4/10] END ......C=0.1, gamma=1, kernel=poly;, score=0.740 total time=  18.4s\n",
            "[CV 5/10] END ......C=0.1, gamma=1, kernel=poly;, score=0.724 total time=  19.8s\n",
            "[CV 6/10] END ......C=0.1, gamma=1, kernel=poly;, score=0.741 total time=  17.5s\n",
            "[CV 7/10] END ......C=0.1, gamma=1, kernel=poly;, score=0.732 total time=  22.9s\n",
            "[CV 8/10] END ......C=0.1, gamma=1, kernel=poly;, score=0.720 total time=  18.5s\n",
            "[CV 9/10] END ......C=0.1, gamma=1, kernel=poly;, score=0.718 total time=  18.0s\n",
            "[CV 10/10] END .....C=0.1, gamma=1, kernel=poly;, score=0.716 total time=  18.2s\n",
            "[CV 1/10] END ...C=0.1, gamma=1, kernel=sigmoid;, score=0.570 total time=  13.6s\n",
            "[CV 2/10] END ...C=0.1, gamma=1, kernel=sigmoid;, score=0.567 total time=  14.2s\n",
            "[CV 3/10] END ...C=0.1, gamma=1, kernel=sigmoid;, score=0.574 total time=  13.9s\n",
            "[CV 4/10] END ...C=0.1, gamma=1, kernel=sigmoid;, score=0.576 total time=  13.9s\n",
            "[CV 5/10] END ...C=0.1, gamma=1, kernel=sigmoid;, score=0.563 total time=  13.7s\n",
            "[CV 6/10] END ...C=0.1, gamma=1, kernel=sigmoid;, score=0.571 total time=  15.0s\n",
            "[CV 7/10] END ...C=0.1, gamma=1, kernel=sigmoid;, score=0.566 total time=  15.2s\n",
            "[CV 8/10] END ...C=0.1, gamma=1, kernel=sigmoid;, score=0.575 total time=  14.5s\n",
            "[CV 9/10] END ...C=0.1, gamma=1, kernel=sigmoid;, score=0.577 total time=  13.9s\n",
            "[CV 10/10] END ..C=0.1, gamma=1, kernel=sigmoid;, score=0.575 total time=  13.9s\n",
            "[CV 1/10] END .....C=0.1, gamma=0.1, kernel=rbf;, score=0.711 total time=  11.4s\n",
            "[CV 2/10] END .....C=0.1, gamma=0.1, kernel=rbf;, score=0.690 total time=  12.0s\n",
            "[CV 3/10] END .....C=0.1, gamma=0.1, kernel=rbf;, score=0.693 total time=  11.9s\n",
            "[CV 4/10] END .....C=0.1, gamma=0.1, kernel=rbf;, score=0.716 total time=  12.0s\n",
            "[CV 5/10] END .....C=0.1, gamma=0.1, kernel=rbf;, score=0.707 total time=  11.2s\n",
            "[CV 6/10] END .....C=0.1, gamma=0.1, kernel=rbf;, score=0.723 total time=  11.4s\n",
            "[CV 7/10] END .....C=0.1, gamma=0.1, kernel=rbf;, score=0.701 total time=  12.1s\n",
            "[CV 8/10] END .....C=0.1, gamma=0.1, kernel=rbf;, score=0.691 total time=  11.5s\n",
            "[CV 9/10] END .....C=0.1, gamma=0.1, kernel=rbf;, score=0.706 total time=  11.1s\n",
            "[CV 10/10] END ....C=0.1, gamma=0.1, kernel=rbf;, score=0.722 total time=  11.6s\n",
            "[CV 1/10] END ....C=0.1, gamma=0.1, kernel=poly;, score=0.772 total time=   7.4s\n",
            "[CV 2/10] END ....C=0.1, gamma=0.1, kernel=poly;, score=0.744 total time=   7.6s\n",
            "[CV 3/10] END ....C=0.1, gamma=0.1, kernel=poly;, score=0.729 total time=   7.4s\n",
            "[CV 4/10] END ....C=0.1, gamma=0.1, kernel=poly;, score=0.741 total time=   7.5s\n",
            "[CV 5/10] END ....C=0.1, gamma=0.1, kernel=poly;, score=0.760 total time=   7.4s\n",
            "[CV 6/10] END ....C=0.1, gamma=0.1, kernel=poly;, score=0.776 total time=   7.7s\n",
            "[CV 7/10] END ....C=0.1, gamma=0.1, kernel=poly;, score=0.770 total time=   7.4s\n",
            "[CV 8/10] END ....C=0.1, gamma=0.1, kernel=poly;, score=0.747 total time=   7.7s\n",
            "[CV 9/10] END ....C=0.1, gamma=0.1, kernel=poly;, score=0.747 total time=   7.4s\n",
            "[CV 10/10] END ...C=0.1, gamma=0.1, kernel=poly;, score=0.762 total time=   7.7s\n",
            "[CV 1/10] END .C=0.1, gamma=0.1, kernel=sigmoid;, score=0.632 total time=  10.2s\n",
            "[CV 2/10] END .C=0.1, gamma=0.1, kernel=sigmoid;, score=0.618 total time=  11.0s\n",
            "[CV 3/10] END .C=0.1, gamma=0.1, kernel=sigmoid;, score=0.601 total time=  10.3s\n",
            "[CV 4/10] END .C=0.1, gamma=0.1, kernel=sigmoid;, score=0.629 total time=  10.0s\n",
            "[CV 5/10] END .C=0.1, gamma=0.1, kernel=sigmoid;, score=0.636 total time=  11.0s\n",
            "[CV 6/10] END .C=0.1, gamma=0.1, kernel=sigmoid;, score=0.613 total time=  10.4s\n",
            "[CV 7/10] END .C=0.1, gamma=0.1, kernel=sigmoid;, score=0.605 total time=  10.2s\n",
            "[CV 8/10] END .C=0.1, gamma=0.1, kernel=sigmoid;, score=0.607 total time=   9.8s\n",
            "[CV 9/10] END .C=0.1, gamma=0.1, kernel=sigmoid;, score=0.613 total time=  11.1s\n",
            "[CV 10/10] END C=0.1, gamma=0.1, kernel=sigmoid;, score=0.609 total time=   9.9s\n",
            "[CV 1/10] END ....C=0.1, gamma=0.01, kernel=rbf;, score=0.677 total time=  11.6s\n",
            "[CV 2/10] END ....C=0.1, gamma=0.01, kernel=rbf;, score=0.668 total time=  12.0s\n",
            "[CV 3/10] END ....C=0.1, gamma=0.01, kernel=rbf;, score=0.648 total time=  14.2s\n",
            "[CV 4/10] END ....C=0.1, gamma=0.01, kernel=rbf;, score=0.676 total time=  11.9s\n",
            "[CV 5/10] END ....C=0.1, gamma=0.01, kernel=rbf;, score=0.670 total time=  12.0s\n",
            "[CV 6/10] END ....C=0.1, gamma=0.01, kernel=rbf;, score=0.675 total time=  12.2s\n",
            "[CV 7/10] END ....C=0.1, gamma=0.01, kernel=rbf;, score=0.660 total time=  12.3s\n",
            "[CV 8/10] END ....C=0.1, gamma=0.01, kernel=rbf;, score=0.665 total time=  11.5s\n",
            "[CV 9/10] END ....C=0.1, gamma=0.01, kernel=rbf;, score=0.665 total time=  12.4s\n",
            "[CV 10/10] END ...C=0.1, gamma=0.01, kernel=rbf;, score=0.693 total time=  12.2s\n",
            "[CV 1/10] END ...C=0.1, gamma=0.01, kernel=poly;, score=0.571 total time=  10.2s\n",
            "[CV 2/10] END ...C=0.1, gamma=0.01, kernel=poly;, score=0.571 total time=   9.5s\n",
            "[CV 3/10] END ...C=0.1, gamma=0.01, kernel=poly;, score=0.571 total time=   9.8s\n",
            "[CV 4/10] END ...C=0.1, gamma=0.01, kernel=poly;, score=0.571 total time=   9.6s\n",
            "[CV 5/10] END ...C=0.1, gamma=0.01, kernel=poly;, score=0.571 total time=   9.8s\n",
            "[CV 6/10] END ...C=0.1, gamma=0.01, kernel=poly;, score=0.571 total time=   9.8s\n",
            "[CV 7/10] END ...C=0.1, gamma=0.01, kernel=poly;, score=0.572 total time=   9.4s\n",
            "[CV 8/10] END ...C=0.1, gamma=0.01, kernel=poly;, score=0.572 total time=   9.9s\n",
            "[CV 9/10] END ...C=0.1, gamma=0.01, kernel=poly;, score=0.572 total time=   9.5s\n",
            "[CV 10/10] END ..C=0.1, gamma=0.01, kernel=poly;, score=0.572 total time=   9.8s\n",
            "[CV 1/10] END C=0.1, gamma=0.01, kernel=sigmoid;, score=0.647 total time=  10.8s\n",
            "[CV 2/10] END C=0.1, gamma=0.01, kernel=sigmoid;, score=0.657 total time=  10.4s\n",
            "[CV 3/10] END C=0.1, gamma=0.01, kernel=sigmoid;, score=0.628 total time=  10.6s\n",
            "[CV 4/10] END C=0.1, gamma=0.01, kernel=sigmoid;, score=0.649 total time=  10.7s\n",
            "[CV 5/10] END C=0.1, gamma=0.01, kernel=sigmoid;, score=0.640 total time=  10.3s\n",
            "[CV 6/10] END C=0.1, gamma=0.01, kernel=sigmoid;, score=0.632 total time=  11.5s\n",
            "[CV 7/10] END C=0.1, gamma=0.01, kernel=sigmoid;, score=0.638 total time=  10.6s\n",
            "[CV 8/10] END C=0.1, gamma=0.01, kernel=sigmoid;, score=0.637 total time=  10.4s\n",
            "[CV 9/10] END C=0.1, gamma=0.01, kernel=sigmoid;, score=0.642 total time=  10.7s\n",
            "[CV 10/10] END C=0.1, gamma=0.01, kernel=sigmoid;, score=0.658 total time=  10.6s\n",
            "[CV 1/10] END ........C=10, gamma=1, kernel=rbf;, score=0.593 total time=  36.6s\n",
            "[CV 2/10] END ........C=10, gamma=1, kernel=rbf;, score=0.625 total time= 4.4min\n",
            "[CV 3/10] END ........C=10, gamma=1, kernel=rbf;, score=0.609 total time=  49.1s\n",
            "[CV 4/10] END ........C=10, gamma=1, kernel=rbf;, score=0.629 total time=  46.8s\n",
            "[CV 5/10] END ........C=10, gamma=1, kernel=rbf;, score=0.625 total time=  39.5s\n",
            "[CV 6/10] END ........C=10, gamma=1, kernel=rbf;, score=0.607 total time=  41.8s\n",
            "[CV 7/10] END ........C=10, gamma=1, kernel=rbf;, score=0.628 total time=  40.1s\n",
            "[CV 8/10] END ........C=10, gamma=1, kernel=rbf;, score=0.629 total time=  38.7s\n",
            "[CV 9/10] END ........C=10, gamma=1, kernel=rbf;, score=0.608 total time=  40.6s\n",
            "[CV 10/10] END .......C=10, gamma=1, kernel=rbf;, score=0.616 total time=  42.7s\n",
            "[CV 1/10] END .......C=10, gamma=1, kernel=poly;, score=0.748 total time=  20.0s\n",
            "[CV 2/10] END .......C=10, gamma=1, kernel=poly;, score=0.713 total time=  18.8s\n",
            "[CV 3/10] END .......C=10, gamma=1, kernel=poly;, score=0.713 total time=  17.9s\n",
            "[CV 4/10] END .......C=10, gamma=1, kernel=poly;, score=0.740 total time=  20.2s\n",
            "[CV 5/10] END .......C=10, gamma=1, kernel=poly;, score=0.724 total time=  19.2s\n",
            "[CV 6/10] END .......C=10, gamma=1, kernel=poly;, score=0.741 total time=  20.2s\n",
            "[CV 7/10] END .......C=10, gamma=1, kernel=poly;, score=0.732 total time=  19.2s\n",
            "[CV 8/10] END .......C=10, gamma=1, kernel=poly;, score=0.720 total time=  19.2s\n",
            "[CV 9/10] END .......C=10, gamma=1, kernel=poly;, score=0.718 total time=  18.7s\n",
            "[CV 10/10] END ......C=10, gamma=1, kernel=poly;, score=0.716 total time=  20.1s\n",
            "[CV 1/10] END ....C=10, gamma=1, kernel=sigmoid;, score=0.526 total time=   8.8s\n",
            "[CV 2/10] END ....C=10, gamma=1, kernel=sigmoid;, score=0.500 total time=  13.4s\n",
            "[CV 3/10] END ....C=10, gamma=1, kernel=sigmoid;, score=0.492 total time=   9.6s\n",
            "[CV 4/10] END ....C=10, gamma=1, kernel=sigmoid;, score=0.525 total time=   8.3s\n",
            "[CV 5/10] END ....C=10, gamma=1, kernel=sigmoid;, score=0.536 total time=   8.7s\n",
            "[CV 6/10] END ....C=10, gamma=1, kernel=sigmoid;, score=0.511 total time=  11.2s\n",
            "[CV 7/10] END ....C=10, gamma=1, kernel=sigmoid;, score=0.513 total time=  10.2s\n",
            "[CV 8/10] END ....C=10, gamma=1, kernel=sigmoid;, score=0.520 total time=  12.0s\n",
            "[CV 9/10] END ....C=10, gamma=1, kernel=sigmoid;, score=0.526 total time=   8.8s\n",
            "[CV 10/10] END ...C=10, gamma=1, kernel=sigmoid;, score=0.525 total time=   8.1s\n",
            "[CV 1/10] END ......C=10, gamma=0.1, kernel=rbf;, score=0.766 total time=  18.7s\n",
            "[CV 2/10] END ......C=10, gamma=0.1, kernel=rbf;, score=0.751 total time=  17.7s\n",
            "[CV 3/10] END ......C=10, gamma=0.1, kernel=rbf;, score=0.739 total time=  17.0s\n",
            "[CV 4/10] END ......C=10, gamma=0.1, kernel=rbf;, score=0.758 total time=  18.3s\n",
            "[CV 5/10] END ......C=10, gamma=0.1, kernel=rbf;, score=0.764 total time=  19.1s\n",
            "[CV 6/10] END ......C=10, gamma=0.1, kernel=rbf;, score=0.772 total time=  18.2s\n",
            "[CV 7/10] END ......C=10, gamma=0.1, kernel=rbf;, score=0.750 total time=  19.9s\n",
            "[CV 8/10] END ......C=10, gamma=0.1, kernel=rbf;, score=0.745 total time=  17.8s\n",
            "[CV 9/10] END ......C=10, gamma=0.1, kernel=rbf;, score=0.750 total time=  18.7s\n",
            "[CV 10/10] END .....C=10, gamma=0.1, kernel=rbf;, score=0.760 total time=  18.8s\n",
            "[CV 1/10] END .....C=10, gamma=0.1, kernel=poly;, score=0.755 total time=  20.1s\n",
            "[CV 2/10] END .....C=10, gamma=0.1, kernel=poly;, score=0.725 total time=  17.3s\n",
            "[CV 3/10] END .....C=10, gamma=0.1, kernel=poly;, score=0.724 total time=  18.0s\n",
            "[CV 4/10] END .....C=10, gamma=0.1, kernel=poly;, score=0.733 total time=  18.0s\n",
            "[CV 5/10] END .....C=10, gamma=0.1, kernel=poly;, score=0.735 total time=  21.1s\n",
            "[CV 6/10] END .....C=10, gamma=0.1, kernel=poly;, score=0.737 total time=  20.0s\n",
            "[CV 7/10] END .....C=10, gamma=0.1, kernel=poly;, score=0.738 total time=  18.6s\n",
            "[CV 8/10] END .....C=10, gamma=0.1, kernel=poly;, score=0.727 total time=  18.4s\n",
            "[CV 9/10] END .....C=10, gamma=0.1, kernel=poly;, score=0.719 total time=  19.9s\n",
            "[CV 10/10] END ....C=10, gamma=0.1, kernel=poly;, score=0.708 total time=  21.6s\n",
            "[CV 1/10] END ..C=10, gamma=0.1, kernel=sigmoid;, score=0.566 total time=   8.7s\n",
            "[CV 2/10] END ..C=10, gamma=0.1, kernel=sigmoid;, score=0.566 total time=   6.0s\n",
            "[CV 3/10] END ..C=10, gamma=0.1, kernel=sigmoid;, score=0.557 total time=   6.4s\n",
            "[CV 4/10] END ..C=10, gamma=0.1, kernel=sigmoid;, score=0.528 total time=   6.1s\n",
            "[CV 5/10] END ..C=10, gamma=0.1, kernel=sigmoid;, score=0.593 total time=  10.1s\n",
            "[CV 6/10] END ..C=10, gamma=0.1, kernel=sigmoid;, score=0.563 total time=   6.7s\n",
            "[CV 7/10] END ..C=10, gamma=0.1, kernel=sigmoid;, score=0.535 total time=   7.0s\n",
            "[CV 8/10] END ..C=10, gamma=0.1, kernel=sigmoid;, score=0.558 total time=   5.9s\n",
            "[CV 9/10] END ..C=10, gamma=0.1, kernel=sigmoid;, score=0.542 total time=   7.9s\n",
            "[CV 10/10] END .C=10, gamma=0.1, kernel=sigmoid;, score=0.552 total time=   6.9s\n",
            "[CV 1/10] END .....C=10, gamma=0.01, kernel=rbf;, score=0.745 total time=  11.8s\n",
            "[CV 2/10] END .....C=10, gamma=0.01, kernel=rbf;, score=0.727 total time=  11.1s\n",
            "[CV 3/10] END .....C=10, gamma=0.01, kernel=rbf;, score=0.706 total time=  10.3s\n",
            "[CV 4/10] END .....C=10, gamma=0.01, kernel=rbf;, score=0.727 total time=  10.7s\n",
            "[CV 5/10] END .....C=10, gamma=0.01, kernel=rbf;, score=0.745 total time=  10.4s\n",
            "[CV 6/10] END .....C=10, gamma=0.01, kernel=rbf;, score=0.761 total time=  10.8s\n",
            "[CV 7/10] END .....C=10, gamma=0.01, kernel=rbf;, score=0.746 total time=  10.5s\n",
            "[CV 8/10] END .....C=10, gamma=0.01, kernel=rbf;, score=0.728 total time=  10.8s\n",
            "[CV 9/10] END .....C=10, gamma=0.01, kernel=rbf;, score=0.740 total time=  10.5s\n",
            "[CV 10/10] END ....C=10, gamma=0.01, kernel=rbf;, score=0.753 total time=  11.2s\n",
            "[CV 1/10] END ....C=10, gamma=0.01, kernel=poly;, score=0.697 total time=  12.2s\n",
            "[CV 2/10] END ....C=10, gamma=0.01, kernel=poly;, score=0.683 total time=  11.1s\n",
            "[CV 3/10] END ....C=10, gamma=0.01, kernel=poly;, score=0.675 total time=  10.2s\n",
            "[CV 4/10] END ....C=10, gamma=0.01, kernel=poly;, score=0.700 total time=  11.3s\n",
            "[CV 5/10] END ....C=10, gamma=0.01, kernel=poly;, score=0.696 total time=  10.8s\n",
            "[CV 6/10] END ....C=10, gamma=0.01, kernel=poly;, score=0.693 total time=  10.1s\n",
            "[CV 7/10] END ....C=10, gamma=0.01, kernel=poly;, score=0.696 total time=   9.5s\n",
            "[CV 8/10] END ....C=10, gamma=0.01, kernel=poly;, score=0.676 total time=  10.0s\n",
            "[CV 9/10] END ....C=10, gamma=0.01, kernel=poly;, score=0.690 total time=   9.9s\n",
            "[CV 10/10] END ...C=10, gamma=0.01, kernel=poly;, score=0.714 total time=  10.1s\n",
            "[CV 1/10] END .C=10, gamma=0.01, kernel=sigmoid;, score=0.689 total time=  10.0s\n",
            "[CV 2/10] END .C=10, gamma=0.01, kernel=sigmoid;, score=0.672 total time=  10.1s\n",
            "[CV 3/10] END .C=10, gamma=0.01, kernel=sigmoid;, score=0.667 total time=  10.1s\n",
            "[CV 4/10] END .C=10, gamma=0.01, kernel=sigmoid;, score=0.680 total time=   9.5s\n",
            "[CV 5/10] END .C=10, gamma=0.01, kernel=sigmoid;, score=0.675 total time=  10.0s\n",
            "[CV 6/10] END .C=10, gamma=0.01, kernel=sigmoid;, score=0.685 total time=  10.0s\n",
            "[CV 7/10] END .C=10, gamma=0.01, kernel=sigmoid;, score=0.681 total time=   9.7s\n",
            "[CV 8/10] END .C=10, gamma=0.01, kernel=sigmoid;, score=0.669 total time=   9.5s\n",
            "[CV 9/10] END .C=10, gamma=0.01, kernel=sigmoid;, score=0.689 total time=   9.7s\n",
            "[CV 10/10] END C=10, gamma=0.01, kernel=sigmoid;, score=0.689 total time=  10.2s\n",
            "[CV 1/10] END .......C=100, gamma=1, kernel=rbf;, score=0.593 total time=  41.3s\n",
            "[CV 2/10] END .......C=100, gamma=1, kernel=rbf;, score=0.625 total time=  40.8s\n",
            "[CV 3/10] END .......C=100, gamma=1, kernel=rbf;, score=0.609 total time=  41.7s\n",
            "[CV 4/10] END .......C=100, gamma=1, kernel=rbf;, score=0.629 total time=  41.1s\n",
            "[CV 5/10] END .......C=100, gamma=1, kernel=rbf;, score=0.625 total time=  37.4s\n",
            "[CV 6/10] END .......C=100, gamma=1, kernel=rbf;, score=0.607 total time=  40.8s\n",
            "[CV 7/10] END .......C=100, gamma=1, kernel=rbf;, score=0.628 total time=  37.9s\n",
            "[CV 8/10] END .......C=100, gamma=1, kernel=rbf;, score=0.629 total time=  37.7s\n",
            "[CV 9/10] END .......C=100, gamma=1, kernel=rbf;, score=0.608 total time=  38.5s\n",
            "[CV 10/10] END ......C=100, gamma=1, kernel=rbf;, score=0.616 total time=  37.7s\n",
            "[CV 1/10] END ......C=100, gamma=1, kernel=poly;, score=0.748 total time=  20.3s\n",
            "[CV 2/10] END ......C=100, gamma=1, kernel=poly;, score=0.713 total time=  17.8s\n",
            "[CV 3/10] END ......C=100, gamma=1, kernel=poly;, score=0.713 total time=  17.2s\n",
            "[CV 4/10] END ......C=100, gamma=1, kernel=poly;, score=0.740 total time=  17.5s\n",
            "[CV 5/10] END ......C=100, gamma=1, kernel=poly;, score=0.724 total time=  19.3s\n",
            "[CV 6/10] END ......C=100, gamma=1, kernel=poly;, score=0.741 total time=  18.0s\n",
            "[CV 7/10] END ......C=100, gamma=1, kernel=poly;, score=0.732 total time=  17.8s\n",
            "[CV 8/10] END ......C=100, gamma=1, kernel=poly;, score=0.720 total time=  17.7s\n",
            "[CV 9/10] END ......C=100, gamma=1, kernel=poly;, score=0.718 total time=  18.2s\n",
            "[CV 10/10] END .....C=100, gamma=1, kernel=poly;, score=0.716 total time=  17.7s\n",
            "[CV 1/10] END ...C=100, gamma=1, kernel=sigmoid;, score=0.526 total time=   7.7s\n",
            "[CV 2/10] END ...C=100, gamma=1, kernel=sigmoid;, score=0.500 total time=  10.3s\n",
            "[CV 3/10] END ...C=100, gamma=1, kernel=sigmoid;, score=0.492 total time=   7.6s\n",
            "[CV 4/10] END ...C=100, gamma=1, kernel=sigmoid;, score=0.525 total time=   8.0s\n",
            "[CV 5/10] END ...C=100, gamma=1, kernel=sigmoid;, score=0.535 total time=   8.8s\n",
            "[CV 6/10] END ...C=100, gamma=1, kernel=sigmoid;, score=0.513 total time=  10.1s\n",
            "[CV 7/10] END ...C=100, gamma=1, kernel=sigmoid;, score=0.512 total time=   9.7s\n",
            "[CV 8/10] END ...C=100, gamma=1, kernel=sigmoid;, score=0.522 total time=  11.2s\n",
            "[CV 9/10] END ...C=100, gamma=1, kernel=sigmoid;, score=0.526 total time=   7.5s\n",
            "[CV 10/10] END ..C=100, gamma=1, kernel=sigmoid;, score=0.522 total time=   7.5s\n",
            "[CV 1/10] END .....C=100, gamma=0.1, kernel=rbf;, score=0.763 total time=  17.4s\n",
            "[CV 2/10] END .....C=100, gamma=0.1, kernel=rbf;, score=0.737 total time=  16.9s\n",
            "[CV 3/10] END .....C=100, gamma=0.1, kernel=rbf;, score=0.743 total time=  16.5s\n",
            "[CV 4/10] END .....C=100, gamma=0.1, kernel=rbf;, score=0.760 total time=  20.1s\n",
            "[CV 5/10] END .....C=100, gamma=0.1, kernel=rbf;, score=0.753 total time=  19.2s\n",
            "[CV 6/10] END .....C=100, gamma=0.1, kernel=rbf;, score=0.759 total time=  16.8s\n",
            "[CV 7/10] END .....C=100, gamma=0.1, kernel=rbf;, score=0.747 total time=  16.7s\n",
            "[CV 8/10] END .....C=100, gamma=0.1, kernel=rbf;, score=0.735 total time=  18.1s\n",
            "[CV 9/10] END .....C=100, gamma=0.1, kernel=rbf;, score=0.750 total time=  18.0s\n",
            "[CV 10/10] END ....C=100, gamma=0.1, kernel=rbf;, score=0.749 total time=  16.8s\n",
            "[CV 1/10] END ....C=100, gamma=0.1, kernel=poly;, score=0.748 total time=  17.5s\n",
            "[CV 2/10] END ....C=100, gamma=0.1, kernel=poly;, score=0.713 total time=  17.2s\n",
            "[CV 3/10] END ....C=100, gamma=0.1, kernel=poly;, score=0.713 total time=  17.9s\n",
            "[CV 4/10] END ....C=100, gamma=0.1, kernel=poly;, score=0.740 total time=  18.0s\n",
            "[CV 5/10] END ....C=100, gamma=0.1, kernel=poly;, score=0.724 total time=  17.6s\n",
            "[CV 6/10] END ....C=100, gamma=0.1, kernel=poly;, score=0.741 total time=  19.0s\n",
            "[CV 7/10] END ....C=100, gamma=0.1, kernel=poly;, score=0.732 total time=  18.5s\n",
            "[CV 8/10] END ....C=100, gamma=0.1, kernel=poly;, score=0.720 total time=  18.3s\n",
            "[CV 9/10] END ....C=100, gamma=0.1, kernel=poly;, score=0.718 total time=  18.5s\n",
            "[CV 10/10] END ...C=100, gamma=0.1, kernel=poly;, score=0.716 total time=  18.5s\n",
            "[CV 1/10] END .C=100, gamma=0.1, kernel=sigmoid;, score=0.546 total time=   5.5s\n",
            "[CV 2/10] END .C=100, gamma=0.1, kernel=sigmoid;, score=0.574 total time=   5.4s\n",
            "[CV 3/10] END .C=100, gamma=0.1, kernel=sigmoid;, score=0.566 total time=   5.3s\n",
            "[CV 4/10] END .C=100, gamma=0.1, kernel=sigmoid;, score=0.580 total time=   5.7s\n",
            "[CV 5/10] END .C=100, gamma=0.1, kernel=sigmoid;, score=0.590 total time=   5.4s\n",
            "[CV 6/10] END .C=100, gamma=0.1, kernel=sigmoid;, score=0.559 total time=   6.1s\n",
            "[CV 7/10] END .C=100, gamma=0.1, kernel=sigmoid;, score=0.579 total time=   5.6s\n",
            "[CV 8/10] END .C=100, gamma=0.1, kernel=sigmoid;, score=0.559 total time=   5.3s\n",
            "[CV 9/10] END .C=100, gamma=0.1, kernel=sigmoid;, score=0.568 total time=   6.2s\n",
            "[CV 10/10] END C=100, gamma=0.1, kernel=sigmoid;, score=0.569 total time=   5.7s\n",
            "[CV 1/10] END ....C=100, gamma=0.01, kernel=rbf;, score=0.765 total time=  12.9s\n",
            "[CV 2/10] END ....C=100, gamma=0.01, kernel=rbf;, score=0.753 total time=  13.4s\n",
            "[CV 3/10] END ....C=100, gamma=0.01, kernel=rbf;, score=0.726 total time=  13.6s\n",
            "[CV 4/10] END ....C=100, gamma=0.01, kernel=rbf;, score=0.750 total time=  13.4s\n",
            "[CV 5/10] END ....C=100, gamma=0.01, kernel=rbf;, score=0.761 total time=  13.8s\n",
            "[CV 6/10] END ....C=100, gamma=0.01, kernel=rbf;, score=0.775 total time=  13.9s\n",
            "[CV 7/10] END ....C=100, gamma=0.01, kernel=rbf;, score=0.768 total time=  13.9s\n",
            "[CV 8/10] END ....C=100, gamma=0.01, kernel=rbf;, score=0.746 total time=  12.7s\n",
            "[CV 9/10] END ....C=100, gamma=0.01, kernel=rbf;, score=0.750 total time=  12.8s\n",
            "[CV 10/10] END ...C=100, gamma=0.01, kernel=rbf;, score=0.761 total time=  13.7s\n",
            "[CV 1/10] END ...C=100, gamma=0.01, kernel=poly;, score=0.772 total time=   8.6s\n",
            "[CV 2/10] END ...C=100, gamma=0.01, kernel=poly;, score=0.744 total time=   7.4s\n",
            "[CV 3/10] END ...C=100, gamma=0.01, kernel=poly;, score=0.729 total time=   7.7s\n",
            "[CV 4/10] END ...C=100, gamma=0.01, kernel=poly;, score=0.741 total time=   7.8s\n",
            "[CV 5/10] END ...C=100, gamma=0.01, kernel=poly;, score=0.760 total time=   8.4s\n",
            "[CV 6/10] END ...C=100, gamma=0.01, kernel=poly;, score=0.776 total time=   8.6s\n",
            "[CV 7/10] END ...C=100, gamma=0.01, kernel=poly;, score=0.770 total time=   9.3s\n",
            "[CV 8/10] END ...C=100, gamma=0.01, kernel=poly;, score=0.747 total time=   7.9s\n",
            "[CV 9/10] END ...C=100, gamma=0.01, kernel=poly;, score=0.747 total time=   7.8s\n",
            "[CV 10/10] END ..C=100, gamma=0.01, kernel=poly;, score=0.762 total time=   8.0s\n",
            "[CV 1/10] END C=100, gamma=0.01, kernel=sigmoid;, score=0.593 total time=  10.6s\n",
            "[CV 2/10] END C=100, gamma=0.01, kernel=sigmoid;, score=0.599 total time=  12.2s\n",
            "[CV 3/10] END C=100, gamma=0.01, kernel=sigmoid;, score=0.597 total time=  12.2s\n",
            "[CV 4/10] END C=100, gamma=0.01, kernel=sigmoid;, score=0.585 total time=  15.1s\n",
            "[CV 5/10] END C=100, gamma=0.01, kernel=sigmoid;, score=0.597 total time=  11.6s\n",
            "[CV 6/10] END C=100, gamma=0.01, kernel=sigmoid;, score=0.605 total time=  11.4s\n",
            "[CV 7/10] END C=100, gamma=0.01, kernel=sigmoid;, score=0.607 total time=  13.1s\n",
            "[CV 8/10] END C=100, gamma=0.01, kernel=sigmoid;, score=0.597 total time=  11.8s\n",
            "[CV 9/10] END C=100, gamma=0.01, kernel=sigmoid;, score=0.608 total time=  11.0s\n",
            "[CV 10/10] END C=100, gamma=0.01, kernel=sigmoid;, score=0.605 total time=  11.1s\n"
          ]
        },
        {
          "data": {
            "text/plain": [
              "GridSearchCV(cv=StratifiedKFold(n_splits=10, random_state=None, shuffle=False),\n",
              "             estimator=SVC(),\n",
              "             param_grid={'C': [0.1, 10, 100], 'gamma': [1, 0.1, 0.01],\n",
              "                         'kernel': ['rbf', 'poly', 'sigmoid']},\n",
              "             verbose=3)"
            ]
          },
          "execution_count": 54,
          "metadata": {},
          "output_type": "execute_result"
        }
      ],
      "source": [
        "# defining parameter range\n",
        "param_grid_svm = {'C': [0.1, 10, 100],\n",
        "              'gamma': [1, 0.1, 0.01],\n",
        "              'kernel': ['rbf', 'poly', 'sigmoid']}\n",
        "\n",
        "cross_val = StratifiedKFold(n_splits=10)\n",
        " \n",
        "grid_svm = GridSearchCV(model_base_SVM, param_grid_svm, verbose = 3, cv = cross_val)\n",
        " \n",
        "# fitting the model for grid search\n",
        "grid_svm.fit(X_train, y_train)"
      ]
    },
    {
      "cell_type": "code",
      "execution_count": null,
      "id": "f2176d95",
      "metadata": {
        "id": "f2176d95",
        "outputId": "058abf21-1313-477a-de3f-8d8dc16674fa"
      },
      "outputs": [
        {
          "name": "stdout",
          "output_type": "stream",
          "text": [
            "{'C': 100, 'gamma': 0.01, 'kernel': 'rbf'}\n",
            "SVC(C=100, gamma=0.01)\n"
          ]
        }
      ],
      "source": [
        "# print best parameter after tuning\n",
        "print(grid_svm.best_params_)\n",
        " \n",
        "# print how our model looks after hyper-parameter tuning\n",
        "print(grid_svm.best_estimator_)"
      ]
    },
    {
      "cell_type": "code",
      "execution_count": null,
      "id": "54c1f5cf",
      "metadata": {
        "id": "54c1f5cf",
        "outputId": "b387a9a0-8c71-480a-f078-9f8c2a65b266"
      },
      "outputs": [
        {
          "name": "stdout",
          "output_type": "stream",
          "text": [
            "SVM Hyper Param Tuned Model accuracy from each of 10 folds:  [0.77068558 0.75886525 0.76359338 0.77304965 0.74369085 0.75709779\n",
            " 0.7555205  0.76498423 0.74684543 0.76892744]\n",
            "SVM Hyper Param Tuned Model Mean Accuracy: 76.033%, SVM Hyper Param Tuned Model Standard Deviation: (0.933%)\n"
          ]
        }
      ],
      "source": [
        "svm_clf_hyper_param = SVC(C=100, gamma=0.01, kernel='rbf')\n",
        "cross_val = StratifiedKFold(n_splits=10)\n",
        "\n",
        "X_s, y_s = shuffle(X, y)\n",
        "cv_results_svm_hyp = cross_val_score(svm_clf_hyper_param, X_s, y_s, cv = cross_val, scoring='accuracy')\n",
        "\n",
        "print(\"SVM Hyper Param Tuned Model accuracy from each of 10 folds: \", cv_results_svm_hyp)\n",
        "print(\"SVM Hyper Param Tuned Model Mean Accuracy: %.3f%%, SVM Hyper Param Tuned Model Standard Deviation: (%.3f%%)\" % (cv_results_svm_hyp.mean()*100.0, cv_results_svm_hyp.std()*100.0))\n"
      ]
    },
    {
      "cell_type": "code",
      "execution_count": null,
      "id": "49f1d66a",
      "metadata": {
        "id": "49f1d66a",
        "outputId": "4fd76096-7e2c-4589-ddb5-6a99bd0b5044"
      },
      "outputs": [
        {
          "name": "stdout",
          "output_type": "stream",
          "text": [
            "Accuracy of SVM model with Train and Test split and hyper parameter tunning: 0.7414268821442649\n"
          ]
        }
      ],
      "source": [
        "#Training the SVM model with Train and Test split and hyper parameter tunning \n",
        "svm_clf_hyper_param.fit(X_train,y_train)\n",
        "\n",
        "y_pred_svm_hyp = svm_clf_hyper_param.predict(X_test)\n",
        "\n",
        "# Model Accuracy\n",
        "print(\"Accuracy of SVM model with Train and Test split and hyper parameter tunning:\", metrics.accuracy_score(y_test, y_pred_svm_hyp))"
      ]
    },
    {
      "cell_type": "code",
      "execution_count": null,
      "id": "5f16bda0",
      "metadata": {
        "id": "5f16bda0",
        "outputId": "efbb0c37-db0b-4ff4-b377-91eb234c24d3"
      },
      "outputs": [
        {
          "name": "stdout",
          "output_type": "stream",
          "text": [
            "Classification report of SVM Classifier model with Train and Test split and hyper parameter tunning:               precision    recall  f1-score   support\n",
            "\n",
            "           0       0.73      0.66      0.69      1128\n",
            "           1       0.75      0.80      0.78      1409\n",
            "\n",
            "    accuracy                           0.74      2537\n",
            "   macro avg       0.74      0.73      0.74      2537\n",
            "weighted avg       0.74      0.74      0.74      2537\n",
            "\n"
          ]
        }
      ],
      "source": [
        "print(\"Classification report of SVM Classifier model with Train and Test split and hyper parameter tunning:\", metrics.classification_report(y_test, y_pred_svm_hyp))"
      ]
    },
    {
      "cell_type": "code",
      "execution_count": null,
      "id": "296e5a71",
      "metadata": {
        "id": "296e5a71"
      },
      "outputs": [],
      "source": [
        "# grid_predictions = grid_svm.predict(X_test)\n",
        " \n",
        "# # print classification report\n",
        "# print(classification_report(y_test, grid_predictions))"
      ]
    },
    {
      "cell_type": "code",
      "execution_count": null,
      "id": "b4c8cdc1",
      "metadata": {
        "id": "b4c8cdc1",
        "outputId": "4ca8253d-f968-4424-c5a2-9ec4ab0a3725"
      },
      "outputs": [
        {
          "name": "stdout",
          "output_type": "stream",
          "text": [
            "SVM accuracy Grid Search CV for testing dataset with hyper parameter tuning is : 74.14%\n"
          ]
        }
      ],
      "source": [
        "test_accuracy_svm_grid = accuracy_score(y_test,y_pred_svm_hyp)*100\n",
        "\n",
        "print(\"SVM accuracy Grid Search CV for testing dataset with hyper parameter tuning is : {:.2f}%\".format(test_accuracy_svm_grid) )"
      ]
    },
    {
      "cell_type": "markdown",
      "id": "9a4ff724",
      "metadata": {
        "id": "9a4ff724"
      },
      "source": [
        "# Logistic Regression Classifier"
      ]
    },
    {
      "cell_type": "code",
      "execution_count": null,
      "id": "106d49db",
      "metadata": {
        "id": "106d49db",
        "outputId": "504f7857-6938-49e8-ff0d-5ed53e988f3b"
      },
      "outputs": [
        {
          "data": {
            "text/plain": [
              "LogisticRegression()"
            ]
          },
          "execution_count": 59,
          "metadata": {},
          "output_type": "execute_result"
        }
      ],
      "source": [
        "lr_base_clf = LogisticRegression()\n",
        "\n",
        "lr_base_clf.fit(X_train, y_train)"
      ]
    },
    {
      "cell_type": "code",
      "execution_count": null,
      "id": "412e10ad",
      "metadata": {
        "id": "412e10ad",
        "outputId": "daea4eb6-c048-4033-dee2-55143096ded0"
      },
      "outputs": [
        {
          "name": "stdout",
          "output_type": "stream",
          "text": [
            "LR base model accuracy: 68.70319274733939\n"
          ]
        }
      ],
      "source": [
        "# make predictions for test data\n",
        "y_pred_lr_base = lr_base_clf.predict(X_test)\n",
        "\n",
        "# LR base model accuracy\n",
        "print(\"LR base model accuracy:\", metrics.accuracy_score(y_test, y_pred_lr_base)*100)"
      ]
    },
    {
      "cell_type": "code",
      "execution_count": null,
      "id": "faf6c9bb",
      "metadata": {
        "id": "faf6c9bb",
        "outputId": "8c401382-4e2c-4e98-bb37-9d657319efab"
      },
      "outputs": [
        {
          "name": "stdout",
          "output_type": "stream",
          "text": [
            "              precision    recall  f1-score   support\n",
            "\n",
            "           0       0.68      0.57      0.62      1128\n",
            "           1       0.69      0.78      0.73      1409\n",
            "\n",
            "    accuracy                           0.69      2537\n",
            "   macro avg       0.68      0.68      0.68      2537\n",
            "weighted avg       0.69      0.69      0.68      2537\n",
            "\n"
          ]
        }
      ],
      "source": [
        "# Logistic Regression base model classification report\n",
        "print(classification_report(y_test, y_pred_lr_base))"
      ]
    },
    {
      "cell_type": "code",
      "execution_count": null,
      "id": "35c154a6",
      "metadata": {
        "id": "35c154a6",
        "outputId": "b863eace-f99b-407a-da74-11ef437cc67f"
      },
      "outputs": [
        {
          "name": "stdout",
          "output_type": "stream",
          "text": [
            "LR model accuracy from each of 10 folds:  [0.67769898 0.66509062 0.6855792  0.69818755 0.68059937 0.71135647\n",
            " 0.68217666 0.68533123 0.69085174 0.68769716]\n",
            "0.69 Mean accuracy for LR base model with a standard deviation of 0.01\n"
          ]
        }
      ],
      "source": [
        "# LR base model - Mean and Std deviation with stratified cross validation.\n",
        "cross_val = StratifiedKFold(n_splits=10)\n",
        "\n",
        "X_s, y_s = shuffle(X, y)\n",
        "lr_cv_scores = cross_val_score(lr_base_clf, X_s, y_s, cv = cross_val)\n",
        "\n",
        "print(\"LR model accuracy from each of 10 folds: \", lr_cv_scores)\n",
        "print(\"%0.2f Mean accuracy for LR base model with a standard deviation of %0.2f\" % (lr_cv_scores.mean(), lr_cv_scores.std()))"
      ]
    },
    {
      "cell_type": "code",
      "execution_count": null,
      "id": "8d7f9a45",
      "metadata": {
        "id": "8d7f9a45",
        "outputId": "ac707bd6-0190-41c7-b5e9-2960bdbd3f9c"
      },
      "outputs": [
        {
          "data": {
            "text/plain": [
              "GridSearchCV(cv=StratifiedKFold(n_splits=10, random_state=None, shuffle=False),\n",
              "             estimator=LogisticRegression(),\n",
              "             param_grid={'C': array([1.00000000e-04, 2.63665090e-04, 6.95192796e-04, 1.83298071e-03,\n",
              "       4.83293024e-03, 1.27427499e-02, 3.35981829e-02, 8.85866790e-02,\n",
              "       2.33572147e-01, 6.15848211e-01, 1.62377674e+00, 4.28133240e+00,\n",
              "       1.12883789e+01, 2.97635144e+01, 7.84759970e+01, 2.06913808e+02,\n",
              "       5.45559478e+02, 1.43844989e+03, 3.79269019e+03, 1.00000000e+04]),\n",
              "                         'max_iter': [100, 1000, 2500],\n",
              "                         'penalty': ['l1', 'l2', 'elasticnet'],\n",
              "                         'solver': ['lbfgs', 'newton-cg', 'liblinear']},\n",
              "             scoring='accuracy')"
            ]
          },
          "execution_count": 63,
          "metadata": {},
          "output_type": "execute_result"
        }
      ],
      "source": [
        "# LR Model Grid Search CV with hyper parameters\n",
        "lr_grid = LogisticRegression()\n",
        "cross_val = StratifiedKFold(n_splits=10)\n",
        "\n",
        "# defining parameter range\n",
        "lr_grid_params = {\n",
        "    'penalty' : ['l1', 'l2', 'elasticnet'],\n",
        "    'solver' : ['lbfgs','newton-cg','liblinear'],\n",
        "    'C' : np.logspace(-4, 4, 20),\n",
        "    'max_iter' : [100, 1000, 2500]\n",
        "    }\n",
        "\n",
        "grid_lr_clf = GridSearchCV(lr_grid, lr_grid_params, cv=cross_val, scoring = 'accuracy')\n",
        "  \n",
        "# fitting the model for grid search\n",
        "grid_lr_clf.fit(X_train, y_train)"
      ]
    },
    {
      "cell_type": "code",
      "execution_count": null,
      "id": "800f19d3",
      "metadata": {
        "id": "800f19d3",
        "outputId": "db3d025c-a5a0-4d42-e1b2-0274f0f49ce2"
      },
      "outputs": [
        {
          "name": "stdout",
          "output_type": "stream",
          "text": [
            "{'C': 0.23357214690901212, 'max_iter': 2500, 'penalty': 'l1', 'solver': 'liblinear'}\n",
            "LogisticRegression(C=0.23357214690901212, max_iter=2500, penalty='l1',\n",
            "                   solver='liblinear')\n"
          ]
        }
      ],
      "source": [
        "# print best parameter after tuning\n",
        "print(grid_lr_clf.best_params_)\n",
        "\n",
        "# print model after hyper-parameter tuning\n",
        "print(grid_lr_clf.best_estimator_)"
      ]
    },
    {
      "cell_type": "code",
      "execution_count": null,
      "id": "b40f56be",
      "metadata": {
        "id": "b40f56be",
        "outputId": "cd87da6f-1ee4-4cec-d88e-270253120746"
      },
      "outputs": [
        {
          "name": "stdout",
          "output_type": "stream",
          "text": [
            "LR Hyper Param Tuned Model accuracy from each of 10 folds:  [0.69739953 0.68400315 0.6855792  0.68479117 0.68690852 0.66719243\n",
            " 0.67586751 0.69794953 0.69637224 0.70662461]\n",
            "LR Hyper Param Tuned Model Mean Accuracy: 68.827%, LR Hyper Param Tuned Model Standard Deviation: (1.103%)\n"
          ]
        }
      ],
      "source": [
        "lr_best_params = LogisticRegression(C=0.23357214690901212, penalty='l1', solver='liblinear', max_iter=2500)\n",
        "cross_val = StratifiedKFold(n_splits=10)\n",
        "\n",
        "X_s, y_s = shuffle(X, y)\n",
        "cv_results_lr_hyp = cross_val_score(lr_best_params, X_s, y_s, cv = cross_val, scoring='accuracy')\n",
        "\n",
        "print(\"LR Hyper Param Tuned Model accuracy from each of 10 folds: \", cv_results_lr_hyp)\n",
        "print(\"LR Hyper Param Tuned Model Mean Accuracy: %.3f%%, LR Hyper Param Tuned Model Standard Deviation: (%.3f%%)\" % (cv_results_lr_hyp.mean()*100.0, cv_results_lr_hyp.std()*100.0))\n"
      ]
    },
    {
      "cell_type": "code",
      "execution_count": null,
      "id": "8c272d12",
      "metadata": {
        "id": "8c272d12",
        "outputId": "47080c27-4c36-4df5-d21c-ed2cc346fb76"
      },
      "outputs": [
        {
          "name": "stdout",
          "output_type": "stream",
          "text": [
            "Accuracy of LR model with Train and Test split and hyper parameter tunning: 0.689396925502562\n"
          ]
        }
      ],
      "source": [
        "#Training the SVM model with Train and Test split and hyper parameter tunning \n",
        "lr_best_params.fit(X_train,y_train)\n",
        "\n",
        "y_pred_lr_hyp = lr_best_params.predict(X_test)\n",
        "\n",
        "# Model Accuracy\n",
        "print(\"Accuracy of LR model with Train and Test split and hyper parameter tunning:\", metrics.accuracy_score(y_test, y_pred_lr_hyp))"
      ]
    },
    {
      "cell_type": "code",
      "execution_count": null,
      "id": "96f899ad",
      "metadata": {
        "id": "96f899ad",
        "outputId": "b70507c1-3be5-42ff-e789-984eb5d6102f"
      },
      "outputs": [
        {
          "name": "stdout",
          "output_type": "stream",
          "text": [
            "Classification report of LR Classifier model with Train and Test split and hyper parameter tunning:               precision    recall  f1-score   support\n",
            "\n",
            "           0       0.68      0.57      0.62      1128\n",
            "           1       0.69      0.79      0.74      1409\n",
            "\n",
            "    accuracy                           0.69      2537\n",
            "   macro avg       0.69      0.68      0.68      2537\n",
            "weighted avg       0.69      0.69      0.68      2537\n",
            "\n"
          ]
        }
      ],
      "source": [
        "print(\"Classification report of LR Classifier model with Train and Test split and hyper parameter tunning:\", metrics.classification_report(y_test, y_pred_lr_hyp))"
      ]
    },
    {
      "cell_type": "code",
      "execution_count": null,
      "id": "f3542f4c",
      "metadata": {
        "id": "f3542f4c",
        "outputId": "4cef1e3f-5445-4ba5-d030-940137ef7de5"
      },
      "outputs": [
        {
          "name": "stdout",
          "output_type": "stream",
          "text": [
            "LR model accuracy Grid Search CV for testing dataset with hyper parameter tuning is : 68.94%\n"
          ]
        }
      ],
      "source": [
        "test_accuracy_lr_grid = accuracy_score(y_test,y_pred_lr_hyp)*100\n",
        "\n",
        "print(\"LR model accuracy Grid Search CV for testing dataset with hyper parameter tuning is : {:.2f}%\".format(test_accuracy_lr_grid) )"
      ]
    }
  ],
  "metadata": {
    "accelerator": "GPU",
    "colab": {
      "name": "Coupon_Recommendation_Classification_final.ipynb",
      "provenance": [],
      "include_colab_link": true
    },
    "gpuClass": "standard",
    "kernelspec": {
      "display_name": "Python 3",
      "language": "python",
      "name": "python3"
    },
    "language_info": {
      "codemirror_mode": {
        "name": "ipython",
        "version": 3
      },
      "file_extension": ".py",
      "mimetype": "text/x-python",
      "name": "python",
      "nbconvert_exporter": "python",
      "pygments_lexer": "ipython3",
      "version": "3.8.8"
    }
  },
  "nbformat": 4,
  "nbformat_minor": 5
}